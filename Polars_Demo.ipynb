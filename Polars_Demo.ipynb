{
 "cells": [
  {
   "cell_type": "markdown",
   "id": "b253e318",
   "metadata": {},
   "source": [
    "# Polars Tutorial and Demonstration\n",
    "> ### Jonathan Scofield\n",
    "#### This notebook will help you set up polars on you computer and query a CSV file. For more information about Polars, please visit the official [website](https://pola.rs/). <br>\n",
    "#### We will be using public real estate sales data from the State of Connecticut for property valued $2K or more from the year 2001 to 2022.\n",
    "#### The data used for this project is in the public domain and is can be found [here](https://catalog.data.gov/dataset/real-estate-sales-2001-2018)."
   ]
  },
  {
   "cell_type": "markdown",
   "id": "cb820a7b",
   "metadata": {},
   "source": [
    "## Setup <br>\n",
    "#### You need to have a version of Python installed equal to or greater than 3.10.\n",
    "#### Use this command to install Polars:\n",
    ">pip install 'polars[all]' "
   ]
  },
  {
   "cell_type": "code",
   "execution_count": 1,
   "id": "95f8ca52",
   "metadata": {},
   "outputs": [
    {
     "name": "stdout",
     "output_type": "stream",
     "text": [
      "Name: polars\n",
      "Version: 1.13.1\n",
      "Summary: Blazingly fast DataFrame library\n",
      "Home-page: \n",
      "Author: \n",
      "Author-email: Ritchie Vink <ritchie46@gmail.com>\n",
      "License: \n",
      "Location: /opt/anaconda3/lib/python3.11/site-packages\n",
      "Requires: \n",
      "Required-by: \n"
     ]
    }
   ],
   "source": [
    "!pip show polars"
   ]
  },
  {
   "cell_type": "markdown",
   "id": "37f5fea7",
   "metadata": {},
   "source": [
    "# Using the SQL Interface"
   ]
  },
  {
   "cell_type": "markdown",
   "id": "3349a631",
   "metadata": {},
   "source": [
    "#### Import required modules."
   ]
  },
  {
   "cell_type": "code",
   "execution_count": 2,
   "id": "85582ce7",
   "metadata": {},
   "outputs": [],
   "source": [
    "# \"pl\" is the conventional alias for the Polars library\n",
    "import polars as pl\n",
    "import os"
   ]
  },
  {
   "cell_type": "markdown",
   "id": "1e37fdff",
   "metadata": {},
   "source": [
    "#### Let's take a look at the size of the CSV file we want to examine."
   ]
  },
  {
   "cell_type": "code",
   "execution_count": 3,
   "id": "76f92e7a",
   "metadata": {
    "scrolled": true
   },
   "outputs": [
    {
     "ename": "FileNotFoundError",
     "evalue": "[Errno 2] No such file or directory: 'Real_Estate_Sales_2001-2022_GL.csv'",
     "output_type": "error",
     "traceback": [
      "\u001b[0;31m---------------------------------------------------------------------------\u001b[0m",
      "\u001b[0;31mFileNotFoundError\u001b[0m                         Traceback (most recent call last)",
      "Cell \u001b[0;32mIn[3], line 3\u001b[0m\n\u001b[1;32m      1\u001b[0m \u001b[38;5;66;03m# Get the size of the source .csv file\u001b[39;00m\n\u001b[0;32m----> 3\u001b[0m \u001b[38;5;124mf\u001b[39m\u001b[38;5;124m\"\u001b[39m\u001b[38;5;132;01m{\u001b[39;00m\u001b[38;5;28mround\u001b[39m(os\u001b[38;5;241m.\u001b[39mpath\u001b[38;5;241m.\u001b[39mgetsize(\u001b[38;5;124mr\u001b[39m\u001b[38;5;124m'\u001b[39m\u001b[38;5;124mReal_Estate_Sales_2001-2022_GL.csv\u001b[39m\u001b[38;5;124m'\u001b[39m)\u001b[38;5;250m \u001b[39m\u001b[38;5;241m/\u001b[39m\u001b[38;5;250m \u001b[39m(\u001b[38;5;241m1024\u001b[39m\u001b[38;5;250m \u001b[39m\u001b[38;5;241m*\u001b[39m\u001b[38;5;241m*\u001b[39m\u001b[38;5;250m \u001b[39m\u001b[38;5;241m2\u001b[39m),\u001b[38;5;250m \u001b[39m\u001b[38;5;241m2\u001b[39m)\u001b[38;5;132;01m}\u001b[39;00m\u001b[38;5;124m MB\u001b[39m\u001b[38;5;124m\"\u001b[39m\n",
      "File \u001b[0;32m<frozen genericpath>:50\u001b[0m, in \u001b[0;36mgetsize\u001b[0;34m(filename)\u001b[0m\n",
      "\u001b[0;31mFileNotFoundError\u001b[0m: [Errno 2] No such file or directory: 'Real_Estate_Sales_2001-2022_GL.csv'"
     ]
    }
   ],
   "source": [
    "# Get the size of the source .csv file\n",
    "\n",
    "f\"{round(os.path.getsize(r'Real_Estate_Sales_2001-2022_GL.csv') / (1024 ** 2), 2)} MB\""
   ]
  },
  {
   "cell_type": "markdown",
   "id": "0a1792b9",
   "metadata": {},
   "source": [
    "#### It is fairly large, so we will scan it to a LazyFrame."
   ]
  },
  {
   "cell_type": "code",
   "execution_count": null,
   "id": "a3bdbff2",
   "metadata": {},
   "outputs": [],
   "source": [
    "# Create a LazyFrame that infers schema based on first 1000 rows\n",
    "\n",
    "df = pl.scan_csv( #We are scanning, not reading\n",
    "    'Real_Estate_Sales_2001-2022_GL.csv', \n",
    "    ignore_errors = False,   # No crash on error\n",
    "    infer_schema_length = 1000, # Sample size for schema detection\n",
    "    low_memory = True, # Memory > speed\n",
    "    try_parse_dates = True, # Format dates automatically   \n",
    ")"
   ]
  },
  {
   "cell_type": "markdown",
   "id": "b45e887b",
   "metadata": {},
   "source": [
    "#### After scanning, we can see the proposed schema from the given sample size:"
   ]
  },
  {
   "cell_type": "code",
   "execution_count": null,
   "id": "8854d36f",
   "metadata": {
    "scrolled": true
   },
   "outputs": [
    {
     "name": "stderr",
     "output_type": "stream",
     "text": [
      "/var/folders/qx/rknrr0jn6cv107ktbpq81t8c0000gn/T/ipykernel_70164/3219684317.py:1: PerformanceWarning: Resolving the schema of a LazyFrame is a potentially expensive operation. Use `LazyFrame.collect_schema()` to get the schema without this warning.\n",
      "  df.schema # View the inferred schema\n"
     ]
    },
    {
     "data": {
      "text/plain": [
       "Schema([('Serial Number', Int64),\n",
       "        ('List Year', Int64),\n",
       "        ('Date Recorded', String),\n",
       "        ('Town', String),\n",
       "        ('Address', String),\n",
       "        ('Assessed Value', Float64),\n",
       "        ('Sale Amount', Float64),\n",
       "        ('Sales Ratio', Float64),\n",
       "        ('Property Type', String),\n",
       "        ('Residential Type', String),\n",
       "        ('Non Use Code', String),\n",
       "        ('Assessor Remarks', String),\n",
       "        ('OPM remarks', String),\n",
       "        ('Location', String)])"
      ]
     },
     "execution_count": 5,
     "metadata": {},
     "output_type": "execute_result"
    }
   ],
   "source": [
    "df.schema # View the inferred schema"
   ]
  },
  {
   "cell_type": "markdown",
   "id": "fff3708e",
   "metadata": {},
   "source": [
    "#### Because this is a LazyFrame, Polars can't return the count of rows."
   ]
  },
  {
   "cell_type": "code",
   "execution_count": null,
   "id": "40614329",
   "metadata": {
    "scrolled": false
   },
   "outputs": [
    {
     "name": "stderr",
     "output_type": "stream",
     "text": [
      "/var/folders/qx/rknrr0jn6cv107ktbpq81t8c0000gn/T/ipykernel_70164/199265662.py:1: DeprecationWarning: `pl.count()` is deprecated. Please use `pl.len()` instead.\n",
      "  df.select(pl.count()) # This won't return anything on a LazyFrame\n"
     ]
    },
    {
     "data": {
      "text/html": [
       "<i>naive plan: (run <b>LazyFrame.explain(optimized=True)</b> to see the optimized plan)</i>\n",
       "    <p></p>\n",
       "    <div> SELECT [len().alias(\"count\")] FROM<p></p>  Csv SCAN [Real_Estate_Sales_2001-2022_GL.csv]<p></p>  PROJECT */14 COLUMNS</div>"
      ],
      "text/plain": [
       "<LazyFrame at 0x10CBEA790>"
      ]
     },
     "execution_count": 6,
     "metadata": {},
     "output_type": "execute_result"
    }
   ],
   "source": [
    "df.select(pl.count()) # This won't return anything on a LazyFrame"
   ]
  },
  {
   "cell_type": "markdown",
   "id": "fa57d323",
   "metadata": {},
   "source": [
    "## Querying the Data"
   ]
  },
  {
   "cell_type": "markdown",
   "id": "325b198a",
   "metadata": {},
   "source": [
    "#### We can query the data as if it was a SQL database using the following syntax:"
   ]
  },
  {
   "cell_type": "code",
   "execution_count": null,
   "id": "c9e277ad",
   "metadata": {},
   "outputs": [],
   "source": [
    "# Count records for each year\n",
    "\n",
    "select_df = pl.SQLContext(register_globals = True).execute(\n",
    "   ''' \n",
    "   SELECT\n",
    "        \"List Year\",\n",
    "        count(\"List Year\") as \"Record Count\"\n",
    "    FROM \n",
    "        df\n",
    "    GROUP BY \"List Year\"\n",
    "    ORDER BY \"List Year\"\n",
    "    '''\n",
    ")"
   ]
  },
  {
   "cell_type": "markdown",
   "id": "a0b24530",
   "metadata": {},
   "source": [
    "#### To view the data, we must call the **collect()** method."
   ]
  },
  {
   "cell_type": "code",
   "execution_count": null,
   "id": "a90fb669",
   "metadata": {
    "scrolled": true
   },
   "outputs": [
    {
     "data": {
      "text/html": [
       "<div><style>\n",
       ".dataframe > thead > tr,\n",
       ".dataframe > tbody > tr {\n",
       "  text-align: right;\n",
       "  white-space: pre-wrap;\n",
       "}\n",
       "</style>\n",
       "<small>shape: (22, 2)</small><table border=\"1\" class=\"dataframe\"><thead><tr><th>List Year</th><th>Record Count</th></tr><tr><td>i64</td><td>u32</td></tr></thead><tbody><tr><td>2001</td><td>59584</td></tr><tr><td>2002</td><td>59682</td></tr><tr><td>2003</td><td>64239</td></tr><tr><td>2004</td><td>84056</td></tr><tr><td>2005</td><td>61602</td></tr><tr><td>&hellip;</td><td>&hellip;</td></tr><tr><td>2018</td><td>50709</td></tr><tr><td>2019</td><td>58954</td></tr><tr><td>2020</td><td>66592</td></tr><tr><td>2021</td><td>56946</td></tr><tr><td>2022</td><td>43470</td></tr></tbody></table></div>"
      ],
      "text/plain": [
       "shape: (22, 2)\n",
       "┌───────────┬──────────────┐\n",
       "│ List Year ┆ Record Count │\n",
       "│ ---       ┆ ---          │\n",
       "│ i64       ┆ u32          │\n",
       "╞═══════════╪══════════════╡\n",
       "│ 2001      ┆ 59584        │\n",
       "│ 2002      ┆ 59682        │\n",
       "│ 2003      ┆ 64239        │\n",
       "│ 2004      ┆ 84056        │\n",
       "│ 2005      ┆ 61602        │\n",
       "│ …         ┆ …            │\n",
       "│ 2018      ┆ 50709        │\n",
       "│ 2019      ┆ 58954        │\n",
       "│ 2020      ┆ 66592        │\n",
       "│ 2021      ┆ 56946        │\n",
       "│ 2022      ┆ 43470        │\n",
       "└───────────┴──────────────┘"
      ]
     },
     "execution_count": 8,
     "metadata": {},
     "output_type": "execute_result"
    }
   ],
   "source": [
    "select_df.collect(streaming = True) # Perform query and load into memory"
   ]
  },
  {
   "cell_type": "markdown",
   "id": "cd867b85",
   "metadata": {},
   "source": [
    "#### We can perform most basic SQL queries on the data. Let's try some string manipulation:"
   ]
  },
  {
   "cell_type": "code",
   "execution_count": null,
   "id": "c52d02a5",
   "metadata": {
    "scrolled": false
   },
   "outputs": [
    {
     "data": {
      "text/html": [
       "<div><style>\n",
       ".dataframe > thead > tr,\n",
       ".dataframe > tbody > tr {\n",
       "  text-align: right;\n",
       "  white-space: pre-wrap;\n",
       "}\n",
       "</style>\n",
       "<small>shape: (5, 4)</small><table border=\"1\" class=\"dataframe\"><thead><tr><th>Town</th><th>Residential Type</th><th>New Column</th><th>Assessed Value</th></tr><tr><td>str</td><td>str</td><td>str</td><td>f64</td></tr></thead><tbody><tr><td>&quot;New Canaan&quot;</td><td>&quot;Condo&quot;</td><td>&quot;NEW CANAAN-CONDO&quot;</td><td>3.791354e7</td></tr><tr><td>&quot;New Canaan&quot;</td><td>&quot;Condo&quot;</td><td>&quot;NEW CANAAN-CONDO&quot;</td><td>3.791354e7</td></tr><tr><td>&quot;New Canaan&quot;</td><td>&quot;Condo&quot;</td><td>&quot;NEW CANAAN-CONDO&quot;</td><td>3.791354e7</td></tr><tr><td>&quot;Darien&quot;</td><td>&quot;Single Family&quot;</td><td>&quot;DARIEN-SINGLE FAMILY&quot;</td><td>3.50301e7</td></tr><tr><td>&quot;Darien&quot;</td><td>&quot;Single Family&quot;</td><td>&quot;DARIEN-SINGLE FAMILY&quot;</td><td>3.50301e7</td></tr></tbody></table></div>"
      ],
      "text/plain": [
       "shape: (5, 4)\n",
       "┌────────────┬──────────────────┬──────────────────────┬────────────────┐\n",
       "│ Town       ┆ Residential Type ┆ New Column           ┆ Assessed Value │\n",
       "│ ---        ┆ ---              ┆ ---                  ┆ ---            │\n",
       "│ str        ┆ str              ┆ str                  ┆ f64            │\n",
       "╞════════════╪══════════════════╪══════════════════════╪════════════════╡\n",
       "│ New Canaan ┆ Condo            ┆ NEW CANAAN-CONDO     ┆ 3.791354e7     │\n",
       "│ New Canaan ┆ Condo            ┆ NEW CANAAN-CONDO     ┆ 3.791354e7     │\n",
       "│ New Canaan ┆ Condo            ┆ NEW CANAAN-CONDO     ┆ 3.791354e7     │\n",
       "│ Darien     ┆ Single Family    ┆ DARIEN-SINGLE FAMILY ┆ 3.50301e7      │\n",
       "│ Darien     ┆ Single Family    ┆ DARIEN-SINGLE FAMILY ┆ 3.50301e7      │\n",
       "└────────────┴──────────────────┴──────────────────────┴────────────────┘"
      ]
     },
     "execution_count": 9,
     "metadata": {},
     "output_type": "execute_result"
    }
   ],
   "source": [
    "# String manipulation with filtering\n",
    "\n",
    "pl.SQLContext(register_globals = True).execute(\n",
    "   ''' \n",
    "   SELECT\n",
    "       \"Town\",\n",
    "       \"Residential Type\",\n",
    "       upper(trim(\"Town\")) + '-' + upper(trim(\"Residential Type\")) as \"New Column\",\n",
    "       \"Assessed Value\"\n",
    "    FROM \n",
    "        df\n",
    "    WHERE \n",
    "        \"List Year\" = 2021 AND \n",
    "        \"Assessed Value\" > 1000000 \n",
    "        AND \"Residential Type\" IS NOT NULL\n",
    "    ORDER BY \n",
    "        \"Assessed Value\" DESC\n",
    "   LIMIT 5\n",
    "    '''\n",
    ").collect(streaming = True)\n"
   ]
  },
  {
   "cell_type": "code",
   "execution_count": null,
   "id": "e543ccc7",
   "metadata": {},
   "outputs": [
    {
     "data": {
      "text/html": [
       "<div><style>\n",
       ".dataframe > thead > tr,\n",
       ".dataframe > tbody > tr {\n",
       "  text-align: right;\n",
       "  white-space: pre-wrap;\n",
       "}\n",
       "</style>\n",
       "<small>shape: (1, 3)</small><table border=\"1\" class=\"dataframe\"><thead><tr><th>Town</th><th>Address</th><th>Premium</th></tr><tr><td>str</td><td>str</td><td>f64</td></tr></thead><tbody><tr><td>&quot;STAMFORD&quot;</td><td>&quot;695 EAST MAIN STREET&quot;</td><td>2.091e8</td></tr></tbody></table></div>"
      ],
      "text/plain": [
       "shape: (1, 3)\n",
       "┌──────────┬──────────────────────┬─────────┐\n",
       "│ Town     ┆ Address              ┆ Premium │\n",
       "│ ---      ┆ ---                  ┆ ---     │\n",
       "│ str      ┆ str                  ┆ f64     │\n",
       "╞══════════╪══════════════════════╪═════════╡\n",
       "│ STAMFORD ┆ 695 EAST MAIN STREET ┆ 2.091e8 │\n",
       "└──────────┴──────────────────────┴─────────┘"
      ]
     },
     "execution_count": 10,
     "metadata": {},
     "output_type": "execute_result"
    }
   ],
   "source": [
    "# String manipulation with calculated column\n",
    "\n",
    "highest_premium_df = pl.SQLContext(register_globals = True).execute(\n",
    "   ''' \n",
    "   SELECT\n",
    "        TRIM(UPPER(\"Town\")),\n",
    "        \"Address\",\n",
    "       (\"Sale Amount\" - \"Assessed Value\") AS \"Premium\"\n",
    "    FROM \n",
    "        df\n",
    "    WHERE \n",
    "        \"List Year\" = 2021 AND \n",
    "        \"Town\" IS NOT NULL\n",
    "    ORDER BY\n",
    "       \"Premium\" DESC\n",
    "    LIMIT 1\n",
    "    '''\n",
    ").collect(streaming = True)\n",
    "\n",
    "highest_premium_df"
   ]
  },
  {
   "cell_type": "markdown",
   "id": "d8885514",
   "metadata": {},
   "source": [
    "# Using the Polars Expression Syntax"
   ]
  },
  {
   "cell_type": "markdown",
   "id": "0048bd0f",
   "metadata": {},
   "source": [
    "#### The Polars Expression Syntax will be immediately familiar to anyone who has worked with PySpark. It offers additional granularity and a \"Pythonic\" syntax for manipulating data."
   ]
  },
  {
   "cell_type": "markdown",
   "id": "bab14aab",
   "metadata": {},
   "source": [
    "## Getting Data Profile"
   ]
  },
  {
   "cell_type": "code",
   "execution_count": null,
   "id": "03a11bb0",
   "metadata": {},
   "outputs": [
    {
     "data": {
      "text/html": [
       "<div><style>\n",
       ".dataframe > thead > tr,\n",
       ".dataframe > tbody > tr {\n",
       "  text-align: right;\n",
       "  white-space: pre-wrap;\n",
       "}\n",
       "</style>\n",
       "<small>shape: (9, 15)</small><table border=\"1\" class=\"dataframe\"><thead><tr><th>statistic</th><th>Serial Number</th><th>List Year</th><th>Date Recorded</th><th>Town</th><th>Address</th><th>Assessed Value</th><th>Sale Amount</th><th>Sales Ratio</th><th>Property Type</th><th>Residential Type</th><th>Non Use Code</th><th>Assessor Remarks</th><th>OPM remarks</th><th>Location</th></tr><tr><td>str</td><td>f64</td><td>f64</td><td>str</td><td>str</td><td>str</td><td>f64</td><td>f64</td><td>f64</td><td>str</td><td>str</td><td>str</td><td>str</td><td>str</td><td>str</td></tr></thead><tbody><tr><td>&quot;count&quot;</td><td>1.097629e6</td><td>1.097629e6</td><td>&quot;1097627&quot;</td><td>&quot;1097629&quot;</td><td>&quot;1097578&quot;</td><td>1.097629e6</td><td>1.097629e6</td><td>1.097629e6</td><td>&quot;715183&quot;</td><td>&quot;699240&quot;</td><td>&quot;313451&quot;</td><td>&quot;171236&quot;</td><td>&quot;13031&quot;</td><td>&quot;298111&quot;</td></tr><tr><td>&quot;null_count&quot;</td><td>0.0</td><td>0.0</td><td>&quot;2&quot;</td><td>&quot;0&quot;</td><td>&quot;51&quot;</td><td>0.0</td><td>0.0</td><td>0.0</td><td>&quot;382446&quot;</td><td>&quot;398389&quot;</td><td>&quot;784178&quot;</td><td>&quot;926393&quot;</td><td>&quot;1084598&quot;</td><td>&quot;799518&quot;</td></tr><tr><td>&quot;mean&quot;</td><td>537035.693168</td><td>2011.218395</td><td>null</td><td>null</td><td>null</td><td>281801.578617</td><td>405314.559762</td><td>9.603926</td><td>null</td><td>null</td><td>null</td><td>null</td><td>null</td><td>null</td></tr><tr><td>&quot;std&quot;</td><td>7.5261e6</td><td>6.773485</td><td>null</td><td>null</td><td>null</td><td>1.6579e6</td><td>5.1435e6</td><td>1801.663865</td><td>null</td><td>null</td><td>null</td><td>null</td><td>null</td><td>null</td></tr><tr><td>&quot;min&quot;</td><td>0.0</td><td>2001.0</td><td>&quot;01/01/2002&quot;</td><td>&quot;***Unknown***&quot;</td><td>&quot;#110 &amp;L77 RANSOM HALL RD&quot;</td><td>0.0</td><td>0.0</td><td>0.0</td><td>&quot;Apartments&quot;</td><td>&quot;Condo&quot;</td><td>&quot;01 - Family&quot;</td><td>&quot;&quot;AS IS SALE&quot;&quot;</td><td>&quot;#190309 HAS SAME REMARK AND IS…</td><td>&quot;POINT (-121.23091 40.30336)&quot;</td></tr><tr><td>&quot;25%&quot;</td><td>30713.0</td><td>2005.0</td><td>null</td><td>null</td><td>null</td><td>89090.0</td><td>145000.0</td><td>0.477867</td><td>null</td><td>null</td><td>null</td><td>null</td><td>null</td><td>null</td></tr><tr><td>&quot;50%&quot;</td><td>80706.0</td><td>2011.0</td><td>null</td><td>null</td><td>null</td><td>140580.0</td><td>233000.0</td><td>0.610566</td><td>null</td><td>null</td><td>null</td><td>null</td><td>null</td><td>null</td></tr><tr><td>&quot;75%&quot;</td><td>170341.0</td><td>2018.0</td><td>null</td><td>null</td><td>null</td><td>228270.0</td><td>375000.0</td><td>0.77072</td><td>null</td><td>null</td><td>null</td><td>null</td><td>null</td><td>null</td></tr><tr><td>&quot;max&quot;</td><td>2.0005e9</td><td>2022.0</td><td>&quot;12/31/2021&quot;</td><td>&quot;Woodstock&quot;</td><td>&quot;parking space only&quot;</td><td>8.8151e8</td><td>5.0000e9</td><td>1.22642e6</td><td>&quot;Vacant Land&quot;</td><td>&quot;Two Family&quot;</td><td>&quot;Single Family&quot;</td><td>&quot;�non-market transaction includ…</td><td>&quot;town site shows assessment as …</td><td>&quot;POINT (-89.50175 34.34596)&quot;</td></tr></tbody></table></div>"
      ],
      "text/plain": [
       "shape: (9, 15)\n",
       "┌───────────┬───────────┬───────────┬───────────┬───┬───────────┬───────────┬───────────┬──────────┐\n",
       "│ statistic ┆ Serial    ┆ List Year ┆ Date      ┆ … ┆ Non Use   ┆ Assessor  ┆ OPM       ┆ Location │\n",
       "│ ---       ┆ Number    ┆ ---       ┆ Recorded  ┆   ┆ Code      ┆ Remarks   ┆ remarks   ┆ ---      │\n",
       "│ str       ┆ ---       ┆ f64       ┆ ---       ┆   ┆ ---       ┆ ---       ┆ ---       ┆ str      │\n",
       "│           ┆ f64       ┆           ┆ str       ┆   ┆ str       ┆ str       ┆ str       ┆          │\n",
       "╞═══════════╪═══════════╪═══════════╪═══════════╪═══╪═══════════╪═══════════╪═══════════╪══════════╡\n",
       "│ count     ┆ 1.097629e ┆ 1.097629e ┆ 1097627   ┆ … ┆ 313451    ┆ 171236    ┆ 13031     ┆ 298111   │\n",
       "│           ┆ 6         ┆ 6         ┆           ┆   ┆           ┆           ┆           ┆          │\n",
       "│ null_coun ┆ 0.0       ┆ 0.0       ┆ 2         ┆ … ┆ 784178    ┆ 926393    ┆ 1084598   ┆ 799518   │\n",
       "│ t         ┆           ┆           ┆           ┆   ┆           ┆           ┆           ┆          │\n",
       "│ mean      ┆ 537035.69 ┆ 2011.2183 ┆ null      ┆ … ┆ null      ┆ null      ┆ null      ┆ null     │\n",
       "│           ┆ 3168      ┆ 95        ┆           ┆   ┆           ┆           ┆           ┆          │\n",
       "│ std       ┆ 7.5261e6  ┆ 6.773485  ┆ null      ┆ … ┆ null      ┆ null      ┆ null      ┆ null     │\n",
       "│ min       ┆ 0.0       ┆ 2001.0    ┆ 01/01/200 ┆ … ┆ 01 -      ┆ \"AS IS    ┆ #190309   ┆ POINT    │\n",
       "│           ┆           ┆           ┆ 2         ┆   ┆ Family    ┆ SALE\"     ┆ HAS SAME  ┆ (-121.23 │\n",
       "│           ┆           ┆           ┆           ┆   ┆           ┆           ┆ REMARK    ┆ 091 40.3 │\n",
       "│           ┆           ┆           ┆           ┆   ┆           ┆           ┆ AND IS…   ┆ 0336)    │\n",
       "│ 25%       ┆ 30713.0   ┆ 2005.0    ┆ null      ┆ … ┆ null      ┆ null      ┆ null      ┆ null     │\n",
       "│ 50%       ┆ 80706.0   ┆ 2011.0    ┆ null      ┆ … ┆ null      ┆ null      ┆ null      ┆ null     │\n",
       "│ 75%       ┆ 170341.0  ┆ 2018.0    ┆ null      ┆ … ┆ null      ┆ null      ┆ null      ┆ null     │\n",
       "│ max       ┆ 2.0005e9  ┆ 2022.0    ┆ 12/31/202 ┆ … ┆ Single    ┆ �non-mark ┆ town site ┆ POINT    │\n",
       "│           ┆           ┆           ┆ 1         ┆   ┆ Family    ┆ et transa ┆ shows ass ┆ (-89.501 │\n",
       "│           ┆           ┆           ┆           ┆   ┆           ┆ ction     ┆ essment   ┆ 75 34.34 │\n",
       "│           ┆           ┆           ┆           ┆   ┆           ┆ includ…   ┆ as …      ┆ 596)     │\n",
       "└───────────┴───────────┴───────────┴───────────┴───┴───────────┴───────────┴───────────┴──────────┘"
      ]
     },
     "execution_count": 11,
     "metadata": {},
     "output_type": "execute_result"
    }
   ],
   "source": [
    "# Descriptive statistics for entire DataFrame\n",
    "\n",
    "df.describe()"
   ]
  },
  {
   "cell_type": "markdown",
   "id": "20156407",
   "metadata": {},
   "source": [
    "## Basic Selecting and Filtering"
   ]
  },
  {
   "cell_type": "markdown",
   "id": "7fc2849e",
   "metadata": {},
   "source": [
    "#### Basic Selecting"
   ]
  },
  {
   "cell_type": "code",
   "execution_count": null,
   "id": "ccd41265",
   "metadata": {},
   "outputs": [
    {
     "data": {
      "text/html": [
       "<div><style>\n",
       ".dataframe > thead > tr,\n",
       ".dataframe > tbody > tr {\n",
       "  text-align: right;\n",
       "  white-space: pre-wrap;\n",
       "}\n",
       "</style>\n",
       "<small>shape: (1, 1)</small><table border=\"1\" class=\"dataframe\"><thead><tr><th>Serial Number</th></tr><tr><td>u32</td></tr></thead><tbody><tr><td>1097629</td></tr></tbody></table></div>"
      ],
      "text/plain": [
       "shape: (1, 1)\n",
       "┌───────────────┐\n",
       "│ Serial Number │\n",
       "│ ---           │\n",
       "│ u32           │\n",
       "╞═══════════════╡\n",
       "│ 1097629       │\n",
       "└───────────────┘"
      ]
     },
     "execution_count": 12,
     "metadata": {},
     "output_type": "execute_result"
    }
   ],
   "source": [
    "# Select number of rows in 'Serial Number' column\n",
    "\n",
    "df.select(pl.col('Serial Number').count()).collect()"
   ]
  },
  {
   "cell_type": "markdown",
   "id": "aba2ffd3",
   "metadata": {},
   "source": [
    "#### Selecting with Sort and Limit"
   ]
  },
  {
   "cell_type": "code",
   "execution_count": null,
   "id": "8ea73462",
   "metadata": {},
   "outputs": [
    {
     "data": {
      "text/html": [
       "<div><style>\n",
       ".dataframe > thead > tr,\n",
       ".dataframe > tbody > tr {\n",
       "  text-align: right;\n",
       "  white-space: pre-wrap;\n",
       "}\n",
       "</style>\n",
       "<small>shape: (5, 2)</small><table border=\"1\" class=\"dataframe\"><thead><tr><th>Serial Number</th><th>Assessor Remarks</th></tr><tr><td>i64</td><td>str</td></tr></thead><tbody><tr><td>200500</td><td>null</td></tr><tr><td>2020090</td><td>null</td></tr><tr><td>2020177</td><td>null</td></tr><tr><td>2020225</td><td>null</td></tr><tr><td>2020348</td><td>null</td></tr></tbody></table></div>"
      ],
      "text/plain": [
       "shape: (5, 2)\n",
       "┌───────────────┬──────────────────┐\n",
       "│ Serial Number ┆ Assessor Remarks │\n",
       "│ ---           ┆ ---              │\n",
       "│ i64           ┆ str              │\n",
       "╞═══════════════╪══════════════════╡\n",
       "│ 200500        ┆ null             │\n",
       "│ 2020090       ┆ null             │\n",
       "│ 2020177       ┆ null             │\n",
       "│ 2020225       ┆ null             │\n",
       "│ 2020348       ┆ null             │\n",
       "└───────────────┴──────────────────┘"
      ]
     },
     "execution_count": 13,
     "metadata": {},
     "output_type": "execute_result"
    }
   ],
   "source": [
    "# Select and order by 'Serial Number'\n",
    "\n",
    "df.select(['Serial Number', 'Assessor Remarks']\n",
    "          ).limit(5).sort(by = 'Serial Number').collect()"
   ]
  },
  {
   "cell_type": "markdown",
   "id": "830189b1",
   "metadata": {},
   "source": [
    "#### Select with Filter"
   ]
  },
  {
   "cell_type": "code",
   "execution_count": null,
   "id": "d62d18c9",
   "metadata": {},
   "outputs": [
    {
     "data": {
      "text/html": [
       "<div><style>\n",
       ".dataframe > thead > tr,\n",
       ".dataframe > tbody > tr {\n",
       "  text-align: right;\n",
       "  white-space: pre-wrap;\n",
       "}\n",
       "</style>\n",
       "<small>shape: (5, 2)</small><table border=\"1\" class=\"dataframe\"><thead><tr><th>Serial Number</th><th>Assessor Remarks</th></tr><tr><td>i64</td><td>str</td></tr></thead><tbody><tr><td>20058</td><td>&quot;2003 COLONIAL, 2140 SFLA, 2.99…</td></tr><tr><td>20093</td><td>&quot;ESTATE SALE&quot;</td></tr><tr><td>200110</td><td>&quot;BAA OVERRIDE&quot;</td></tr><tr><td>200142</td><td>&quot;R/C/8&quot;</td></tr><tr><td>200207</td><td>&quot;MULTIPLE LOT SALE&quot;</td></tr></tbody></table></div>"
      ],
      "text/plain": [
       "shape: (5, 2)\n",
       "┌───────────────┬─────────────────────────────────┐\n",
       "│ Serial Number ┆ Assessor Remarks                │\n",
       "│ ---           ┆ ---                             │\n",
       "│ i64           ┆ str                             │\n",
       "╞═══════════════╪═════════════════════════════════╡\n",
       "│ 20058         ┆ 2003 COLONIAL, 2140 SFLA, 2.99… │\n",
       "│ 20093         ┆ ESTATE SALE                     │\n",
       "│ 200110        ┆ BAA OVERRIDE                    │\n",
       "│ 200142        ┆ R/C/8                           │\n",
       "│ 200207        ┆ MULTIPLE LOT SALE               │\n",
       "└───────────────┴─────────────────────────────────┘"
      ]
     },
     "execution_count": 14,
     "metadata": {},
     "output_type": "execute_result"
    }
   ],
   "source": [
    "# Filter out null 'Assessor Remarks'\n",
    "\n",
    "df.select(['Serial Number', 'Assessor Remarks']\n",
    "          ).filter(pl.col('Assessor Remarks').is_not_null()\n",
    "                   ).limit(5).sort(by = 'Serial Number').collect()"
   ]
  },
  {
   "cell_type": "markdown",
   "id": "83091bd1",
   "metadata": {},
   "source": [
    "#### Select with Transformation and Filter"
   ]
  },
  {
   "cell_type": "code",
   "execution_count": null,
   "id": "87a65b16",
   "metadata": {},
   "outputs": [
    {
     "data": {
      "text/html": [
       "<div><style>\n",
       ".dataframe > thead > tr,\n",
       ".dataframe > tbody > tr {\n",
       "  text-align: right;\n",
       "  white-space: pre-wrap;\n",
       "}\n",
       "</style>\n",
       "<small>shape: (16_024, 2)</small><table border=\"1\" class=\"dataframe\"><thead><tr><th>Year</th><th>Sales Ratio</th></tr><tr><td>i64</td><td>f64</td></tr></thead><tbody><tr><td>2020</td><td>679.500889</td></tr><tr><td>2020</td><td>671.8894</td></tr><tr><td>2020</td><td>362.841333</td></tr><tr><td>2020</td><td>318.034706</td></tr><tr><td>2020</td><td>213.5675</td></tr><tr><td>&hellip;</td><td>&hellip;</td></tr><tr><td>2022</td><td>0.8001</td></tr><tr><td>2022</td><td>0.8</td></tr><tr><td>2022</td><td>0.8</td></tr><tr><td>2022</td><td>0.8</td></tr><tr><td>2022</td><td>0.8</td></tr></tbody></table></div>"
      ],
      "text/plain": [
       "shape: (16_024, 2)\n",
       "┌──────┬─────────────┐\n",
       "│ Year ┆ Sales Ratio │\n",
       "│ ---  ┆ ---         │\n",
       "│ i64  ┆ f64         │\n",
       "╞══════╪═════════════╡\n",
       "│ 2020 ┆ 679.500889  │\n",
       "│ 2020 ┆ 671.8894    │\n",
       "│ 2020 ┆ 362.841333  │\n",
       "│ 2020 ┆ 318.034706  │\n",
       "│ 2020 ┆ 213.5675    │\n",
       "│ …    ┆ …           │\n",
       "│ 2022 ┆ 0.8001      │\n",
       "│ 2022 ┆ 0.8         │\n",
       "│ 2022 ┆ 0.8         │\n",
       "│ 2022 ┆ 0.8         │\n",
       "│ 2022 ┆ 0.8         │\n",
       "└──────┴─────────────┘"
      ]
     },
     "execution_count": 15,
     "metadata": {},
     "output_type": "execute_result"
    }
   ],
   "source": [
    "# Recreate the sales ratio with a column-level calculation\n",
    "\n",
    "df.select(\n",
    "    pl.col('List Year').alias('Year'), \n",
    "    (pl.col('Assessed Value') / pl.col('Sale Amount')).alias('Sales Ratio')\n",
    "    ).filter(\n",
    "        (pl.col('Year') >= 2020) & (pl.col('Sales Ratio') >= 0.8)\n",
    "    ).sort(by = ['Year', 'Sales Ratio'], descending = [False, True]).collect()"
   ]
  },
  {
   "cell_type": "markdown",
   "id": "0d434030",
   "metadata": {},
   "source": [
    "## Adding/Transforming Columns"
   ]
  },
  {
   "cell_type": "markdown",
   "id": "8390d065",
   "metadata": {},
   "source": [
    "#### Transforming Existing Columns"
   ]
  },
  {
   "cell_type": "code",
   "execution_count": null,
   "id": "27a11327",
   "metadata": {},
   "outputs": [
    {
     "data": {
      "text/html": [
       "<div><style>\n",
       ".dataframe > thead > tr,\n",
       ".dataframe > tbody > tr {\n",
       "  text-align: right;\n",
       "  white-space: pre-wrap;\n",
       "}\n",
       "</style>\n",
       "<small>shape: (5, 14)</small><table border=\"1\" class=\"dataframe\"><thead><tr><th>Serial Number</th><th>List Year</th><th>Date Recorded</th><th>Town</th><th>Address</th><th>Assessed Value</th><th>Sale Amount</th><th>Sales Ratio</th><th>Property Type</th><th>Residential Type</th><th>Non Use Code</th><th>Assessor Remarks</th><th>OPM remarks</th><th>Location</th></tr><tr><td>i64</td><td>i64</td><td>str</td><td>str</td><td>str</td><td>f64</td><td>f64</td><td>f64</td><td>str</td><td>str</td><td>str</td><td>str</td><td>str</td><td>str</td></tr></thead><tbody><tr><td>2020177</td><td>2020</td><td>&quot;04/14/2021&quot;</td><td>&quot;Ansonia&quot;</td><td>&quot;323 BEAVER ST&quot;</td><td>133000.0</td><td>248400.0</td><td>0.5354</td><td>&quot;Residential&quot;</td><td>&quot;Single Family&quot;</td><td>null</td><td>&quot;N/A&quot;</td><td>&quot;N/A&quot;</td><td>&quot;POINT (-73.06822 41.35014)&quot;</td></tr><tr><td>2020225</td><td>2020</td><td>&quot;05/26/2021&quot;</td><td>&quot;Ansonia&quot;</td><td>&quot;152 JACKSON ST&quot;</td><td>110500.0</td><td>239900.0</td><td>0.4606</td><td>&quot;Residential&quot;</td><td>&quot;Three Family&quot;</td><td>null</td><td>&quot;N/A&quot;</td><td>&quot;N/A&quot;</td><td>null</td></tr><tr><td>2020348</td><td>2020</td><td>&quot;09/13/2021&quot;</td><td>&quot;Ansonia&quot;</td><td>&quot;230 WAKELEE AVE&quot;</td><td>150500.0</td><td>325000.0</td><td>0.463</td><td>&quot;Commercial&quot;</td><td>null</td><td>null</td><td>&quot;N/A&quot;</td><td>&quot;N/A&quot;</td><td>null</td></tr><tr><td>2020090</td><td>2020</td><td>&quot;12/14/2020&quot;</td><td>&quot;Ansonia&quot;</td><td>&quot;57 PLATT ST&quot;</td><td>127400.0</td><td>202500.0</td><td>0.6291</td><td>&quot;Residential&quot;</td><td>&quot;Two Family&quot;</td><td>null</td><td>&quot;N/A&quot;</td><td>&quot;N/A&quot;</td><td>null</td></tr><tr><td>200500</td><td>2020</td><td>&quot;09/07/2021&quot;</td><td>&quot;Avon&quot;</td><td>&quot;245 NEW ROAD&quot;</td><td>217640.0</td><td>400000.0</td><td>0.5441</td><td>&quot;Residential&quot;</td><td>&quot;Single Family&quot;</td><td>null</td><td>&quot;N/A&quot;</td><td>&quot;N/A&quot;</td><td>null</td></tr></tbody></table></div>"
      ],
      "text/plain": [
       "shape: (5, 14)\n",
       "┌────────────┬───────────┬───────────┬─────────┬───┬───────────┬───────────┬───────────┬───────────┐\n",
       "│ Serial     ┆ List Year ┆ Date      ┆ Town    ┆ … ┆ Non Use   ┆ Assessor  ┆ OPM       ┆ Location  │\n",
       "│ Number     ┆ ---       ┆ Recorded  ┆ ---     ┆   ┆ Code      ┆ Remarks   ┆ remarks   ┆ ---       │\n",
       "│ ---        ┆ i64       ┆ ---       ┆ str     ┆   ┆ ---       ┆ ---       ┆ ---       ┆ str       │\n",
       "│ i64        ┆           ┆ str       ┆         ┆   ┆ str       ┆ str       ┆ str       ┆           │\n",
       "╞════════════╪═══════════╪═══════════╪═════════╪═══╪═══════════╪═══════════╪═══════════╪═══════════╡\n",
       "│ 2020177    ┆ 2020      ┆ 04/14/202 ┆ Ansonia ┆ … ┆ null      ┆ N/A       ┆ N/A       ┆ POINT (-7 │\n",
       "│            ┆           ┆ 1         ┆         ┆   ┆           ┆           ┆           ┆ 3.06822   │\n",
       "│            ┆           ┆           ┆         ┆   ┆           ┆           ┆           ┆ 41.35014) │\n",
       "│ 2020225    ┆ 2020      ┆ 05/26/202 ┆ Ansonia ┆ … ┆ null      ┆ N/A       ┆ N/A       ┆ null      │\n",
       "│            ┆           ┆ 1         ┆         ┆   ┆           ┆           ┆           ┆           │\n",
       "│ 2020348    ┆ 2020      ┆ 09/13/202 ┆ Ansonia ┆ … ┆ null      ┆ N/A       ┆ N/A       ┆ null      │\n",
       "│            ┆           ┆ 1         ┆         ┆   ┆           ┆           ┆           ┆           │\n",
       "│ 2020090    ┆ 2020      ┆ 12/14/202 ┆ Ansonia ┆ … ┆ null      ┆ N/A       ┆ N/A       ┆ null      │\n",
       "│            ┆           ┆ 0         ┆         ┆   ┆           ┆           ┆           ┆           │\n",
       "│ 200500     ┆ 2020      ┆ 09/07/202 ┆ Avon    ┆ … ┆ null      ┆ N/A       ┆ N/A       ┆ null      │\n",
       "│            ┆           ┆ 1         ┆         ┆   ┆           ┆           ┆           ┆           │\n",
       "└────────────┴───────────┴───────────┴─────────┴───┴───────────┴───────────┴───────────┴───────────┘"
      ]
     },
     "execution_count": 16,
     "metadata": {},
     "output_type": "execute_result"
    }
   ],
   "source": [
    "# Coalesce remarks and default to \"N/A\"\n",
    "\n",
    "df.with_columns(\n",
    "    pl.coalesce(pl.col(['Assessor Remarks', 'OPM remarks']), pl.lit('N/A')),\n",
    "    pl.coalesce(pl.col(['OPM remarks', 'Assessor Remarks']), pl.lit('N/A'))\n",
    "    ).limit(5).collect()"
   ]
  },
  {
   "cell_type": "markdown",
   "id": "6a514c5b",
   "metadata": {},
   "source": [
    "#### Creating a New Column"
   ]
  },
  {
   "cell_type": "code",
   "execution_count": null,
   "id": "66771f76",
   "metadata": {},
   "outputs": [
    {
     "data": {
      "text/html": [
       "<div><style>\n",
       ".dataframe > thead > tr,\n",
       ".dataframe > tbody > tr {\n",
       "  text-align: right;\n",
       "  white-space: pre-wrap;\n",
       "}\n",
       "</style>\n",
       "<small>shape: (5, 15)</small><table border=\"1\" class=\"dataframe\"><thead><tr><th>Serial Number</th><th>List Year</th><th>Date Recorded</th><th>Town</th><th>Address</th><th>Assessed Value</th><th>Sale Amount</th><th>Sales Ratio</th><th>Property Type</th><th>Residential Type</th><th>Non Use Code</th><th>Assessor Remarks</th><th>OPM remarks</th><th>Location</th><th>Combined Remarks</th></tr><tr><td>i64</td><td>i64</td><td>str</td><td>str</td><td>str</td><td>f64</td><td>f64</td><td>f64</td><td>str</td><td>str</td><td>str</td><td>str</td><td>str</td><td>str</td><td>struct[2]</td></tr></thead><tbody><tr><td>201312</td><td>2020</td><td>&quot;08/26/2021&quot;</td><td>&quot;Griswold&quot;</td><td>&quot;17-19 SCHOOL RD&quot;</td><td>108430.0</td><td>150000.0</td><td>0.722867</td><td>&quot;Residential&quot;</td><td>&quot;Two Family&quot;</td><td>&quot;07 - Change in Property&quot;</td><td>&quot;DUPLEX&quot;</td><td>&quot;RENOVATED ONE UNIT PER MLS - S…</td><td>null</td><td>{&quot;DUPLEX&quot;,&quot;RENOVATED ONE UNIT PER MLS - SEE PREVIOUS SALE #201127&quot;}</td></tr><tr><td>200052</td><td>2020</td><td>&quot;02/04/2021&quot;</td><td>&quot;Goshen&quot;</td><td>&quot;36 SANDY BEACH ROAD&quot;</td><td>211730.0</td><td>290000.0</td><td>0.730103</td><td>&quot;Residential&quot;</td><td>&quot;Single Family&quot;</td><td>&quot;07 - Change in Property&quot;</td><td>&quot;current structure no value/ mu…</td><td>&quot;PER MLS SALE IS FOR LAND - ASS…</td><td>null</td><td>{&quot;current structure no value/ must be removed - PER MLS&quot;,&quot;PER MLS SALE IS FOR LAND - ASSESSMENT INCLUDES BUILDING&quot;}</td></tr><tr><td>200020</td><td>2020</td><td>&quot;12/08/2020&quot;</td><td>&quot;East Granby&quot;</td><td>&quot;96 KIMBERLY ROAD&quot;</td><td>187800.0</td><td>255000.0</td><td>0.736471</td><td>&quot;Residential&quot;</td><td>&quot;Single Family&quot;</td><td>null</td><td>&quot;PP TOO LOW, RATIO TOO HIGH&quot;</td><td>&quot;GOOD SALE PER MLS - SOLD OVER …</td><td>&quot;POINT (-72.75829 41.95346)&quot;</td><td>{&quot;PP TOO LOW, RATIO TOO HIGH&quot;,&quot;GOOD SALE PER MLS - SOLD OVER ASKING&quot;}</td></tr><tr><td>200594</td><td>2020</td><td>&quot;02/16/2021&quot;</td><td>&quot;Danbury&quot;</td><td>&quot;8 HICKORY ST&quot;</td><td>121600.0</td><td>146216.0</td><td>0.831646</td><td>&quot;Residential&quot;</td><td>&quot;Single Family&quot;</td><td>&quot;25 - Other&quot;</td><td>&quot;I11192&quot;</td><td>&quot;HOUSE HAS SETTLED PER MLS&quot;</td><td>&quot;POINT (-73.44696 41.41179)&quot;</td><td>{&quot;I11192&quot;,&quot;HOUSE HAS SETTLED PER MLS&quot;}</td></tr><tr><td>200871</td><td>2020</td><td>&quot;04/27/2021&quot;</td><td>&quot;Danbury&quot;</td><td>&quot;2 CREST AV&quot;</td><td>160200.0</td><td>370000.0</td><td>0.432973</td><td>&quot;Residential&quot;</td><td>&quot;Single Family&quot;</td><td>null</td><td>&quot;I05185&quot;</td><td>&quot;GOOD SALE PER MLS&quot;</td><td>&quot;POINT (-73.44654 41.44203)&quot;</td><td>{&quot;I05185&quot;,&quot;GOOD SALE PER MLS&quot;}</td></tr></tbody></table></div>"
      ],
      "text/plain": [
       "shape: (5, 15)\n",
       "┌────────┬──────┬─────────────┬────────────┬───┬────────────┬────────────┬────────────┬────────────┐\n",
       "│ Serial ┆ List ┆ Date        ┆ Town       ┆ … ┆ Assessor   ┆ OPM        ┆ Location   ┆ Combined   │\n",
       "│ Number ┆ Year ┆ Recorded    ┆ ---        ┆   ┆ Remarks    ┆ remarks    ┆ ---        ┆ Remarks    │\n",
       "│ ---    ┆ ---  ┆ ---         ┆ str        ┆   ┆ ---        ┆ ---        ┆ str        ┆ ---        │\n",
       "│ i64    ┆ i64  ┆ str         ┆            ┆   ┆ str        ┆ str        ┆            ┆ struct[2]  │\n",
       "╞════════╪══════╪═════════════╪════════════╪═══╪════════════╪════════════╪════════════╪════════════╡\n",
       "│ 201312 ┆ 2020 ┆ 08/26/2021  ┆ Griswold   ┆ … ┆ DUPLEX     ┆ RENOVATED  ┆ null       ┆ {\"DUPLEX\", │\n",
       "│        ┆      ┆             ┆            ┆   ┆            ┆ ONE UNIT   ┆            ┆ \"RENOVATED │\n",
       "│        ┆      ┆             ┆            ┆   ┆            ┆ PER MLS -  ┆            ┆ ONE UNIT … │\n",
       "│        ┆      ┆             ┆            ┆   ┆            ┆ S…         ┆            ┆            │\n",
       "│ 200052 ┆ 2020 ┆ 02/04/2021  ┆ Goshen     ┆ … ┆ current    ┆ PER MLS    ┆ null       ┆ {\"current  │\n",
       "│        ┆      ┆             ┆            ┆   ┆ structure  ┆ SALE IS    ┆            ┆ structure  │\n",
       "│        ┆      ┆             ┆            ┆   ┆ no value/  ┆ FOR LAND - ┆            ┆ no value/  │\n",
       "│        ┆      ┆             ┆            ┆   ┆ mu…        ┆ ASS…       ┆            ┆ …          │\n",
       "│ 200020 ┆ 2020 ┆ 12/08/2020  ┆ East       ┆ … ┆ PP TOO     ┆ GOOD SALE  ┆ POINT      ┆ {\"PP TOO   │\n",
       "│        ┆      ┆             ┆ Granby     ┆   ┆ LOW, RATIO ┆ PER MLS -  ┆ (-72.75829 ┆ LOW, RATIO │\n",
       "│        ┆      ┆             ┆            ┆   ┆ TOO HIGH   ┆ SOLD OVER  ┆ 41.95346)  ┆ TOO        │\n",
       "│        ┆      ┆             ┆            ┆   ┆            ┆ …          ┆            ┆ HIGH\",…    │\n",
       "│ 200594 ┆ 2020 ┆ 02/16/2021  ┆ Danbury    ┆ … ┆ I11192     ┆ HOUSE HAS  ┆ POINT      ┆ {\"I11192\", │\n",
       "│        ┆      ┆             ┆            ┆   ┆            ┆ SETTLED    ┆ (-73.44696 ┆ \"HOUSE HAS │\n",
       "│        ┆      ┆             ┆            ┆   ┆            ┆ PER MLS    ┆ 41.41179)  ┆ SETTLED P… │\n",
       "│ 200871 ┆ 2020 ┆ 04/27/2021  ┆ Danbury    ┆ … ┆ I05185     ┆ GOOD SALE  ┆ POINT      ┆ {\"I05185\", │\n",
       "│        ┆      ┆             ┆            ┆   ┆            ┆ PER MLS    ┆ (-73.44654 ┆ \"GOOD SALE │\n",
       "│        ┆      ┆             ┆            ┆   ┆            ┆            ┆ 41.44203)  ┆ PER MLS\"}  │\n",
       "└────────┴──────┴─────────────┴────────────┴───┴────────────┴────────────┴────────────┴────────────┘"
      ]
     },
     "execution_count": 17,
     "metadata": {},
     "output_type": "execute_result"
    }
   ],
   "source": [
    "# Create a new column of the struct type\n",
    "\n",
    "df.filter(\n",
    "    (pl.col('Assessor Remarks').is_not_null()) & \n",
    "    (pl.col('OPM remarks').is_not_null())\n",
    "    ).with_columns(\n",
    "        pl.struct(pl.col(['Assessor Remarks','OPM remarks'])).alias('Combined Remarks')\n",
    "        ).limit(5).collect()"
   ]
  },
  {
   "cell_type": "markdown",
   "id": "5527787f",
   "metadata": {},
   "source": [
    "#### Casting"
   ]
  },
  {
   "cell_type": "code",
   "execution_count": null,
   "id": "4a8800d2",
   "metadata": {},
   "outputs": [
    {
     "data": {
      "text/html": [
       "<div><style>\n",
       ".dataframe > thead > tr,\n",
       ".dataframe > tbody > tr {\n",
       "  text-align: right;\n",
       "  white-space: pre-wrap;\n",
       "}\n",
       "</style>\n",
       "<small>shape: (1_097_629, 2)</small><table border=\"1\" class=\"dataframe\"><thead><tr><th>Date Recorded</th><th>Assessed Value</th></tr><tr><td>date</td><td>i64</td></tr></thead><tbody><tr><td>2021-04-14</td><td>133000</td></tr><tr><td>2021-05-26</td><td>110500</td></tr><tr><td>2021-09-13</td><td>150500</td></tr><tr><td>2020-12-14</td><td>127400</td></tr><tr><td>2021-09-07</td><td>217640</td></tr><tr><td>&hellip;</td><td>&hellip;</td></tr><tr><td>2022-10-11</td><td>483380</td></tr><tr><td>2023-09-29</td><td>20650</td></tr><tr><td>2023-01-09</td><td>132900</td></tr><tr><td>2023-09-26</td><td>1099400</td></tr><tr><td>2023-05-18</td><td>135860</td></tr></tbody></table></div>"
      ],
      "text/plain": [
       "shape: (1_097_629, 2)\n",
       "┌───────────────┬────────────────┐\n",
       "│ Date Recorded ┆ Assessed Value │\n",
       "│ ---           ┆ ---            │\n",
       "│ date          ┆ i64            │\n",
       "╞═══════════════╪════════════════╡\n",
       "│ 2021-04-14    ┆ 133000         │\n",
       "│ 2021-05-26    ┆ 110500         │\n",
       "│ 2021-09-13    ┆ 150500         │\n",
       "│ 2020-12-14    ┆ 127400         │\n",
       "│ 2021-09-07    ┆ 217640         │\n",
       "│ …             ┆ …              │\n",
       "│ 2022-10-11    ┆ 483380         │\n",
       "│ 2023-09-29    ┆ 20650          │\n",
       "│ 2023-01-09    ┆ 132900         │\n",
       "│ 2023-09-26    ┆ 1099400        │\n",
       "│ 2023-05-18    ┆ 135860         │\n",
       "└───────────────┴────────────────┘"
      ]
     },
     "execution_count": 18,
     "metadata": {},
     "output_type": "execute_result"
    }
   ],
   "source": [
    "# Cast a string column to Polars date type\n",
    "\n",
    "df.select(\n",
    "    pl.col('Date Recorded').str.strptime(pl.Date, r'%m/%d/%Y'),\n",
    "    pl.col('Assessed Value').cast(pl.Int64)\n",
    "    ).collect()"
   ]
  },
  {
   "cell_type": "markdown",
   "id": "db82beb7",
   "metadata": {},
   "source": [
    "## Joins"
   ]
  },
  {
   "cell_type": "markdown",
   "id": "edb32e16",
   "metadata": {},
   "source": [
    "#### SQL-like Joins"
   ]
  },
  {
   "cell_type": "code",
   "execution_count": null,
   "id": "29ad65aa",
   "metadata": {},
   "outputs": [
    {
     "data": {
      "text/html": [
       "<div><style>\n",
       ".dataframe > thead > tr,\n",
       ".dataframe > tbody > tr {\n",
       "  text-align: right;\n",
       "  white-space: pre-wrap;\n",
       "}\n",
       "</style>\n",
       "<small>shape: (3_382, 27)</small><table border=\"1\" class=\"dataframe\"><thead><tr><th>Serial Number</th><th>List Year</th><th>Date Recorded</th><th>Town</th><th>Address</th><th>Assessed Value</th><th>Sale Amount</th><th>Sales Ratio</th><th>Property Type</th><th>Residential Type</th><th>Non Use Code</th><th>Assessor Remarks</th><th>OPM remarks</th><th>Location</th><th>Serial Number_right</th><th>List Year_right</th><th>Date Recorded_right</th><th>Town_right</th><th>Assessed Value_right</th><th>Sale Amount_right</th><th>Sales Ratio_right</th><th>Property Type_right</th><th>Residential Type_right</th><th>Non Use Code_right</th><th>Assessor Remarks_right</th><th>OPM remarks_right</th><th>Location_right</th></tr><tr><td>i64</td><td>i64</td><td>str</td><td>str</td><td>str</td><td>f64</td><td>f64</td><td>f64</td><td>str</td><td>str</td><td>str</td><td>str</td><td>str</td><td>str</td><td>i64</td><td>i64</td><td>str</td><td>str</td><td>f64</td><td>f64</td><td>f64</td><td>str</td><td>str</td><td>str</td><td>str</td><td>str</td><td>str</td></tr></thead><tbody><tr><td>200121</td><td>2020</td><td>&quot;12/15/2020&quot;</td><td>&quot;Avon&quot;</td><td>&quot;63 NORTHGATE&quot;</td><td>528490.0</td><td>775000.0</td><td>0.6819</td><td>&quot;Residential&quot;</td><td>&quot;Single Family&quot;</td><td>null</td><td>null</td><td>null</td><td>&quot;POINT (-72.89675 41.79445)&quot;</td><td>190320</td><td>2019</td><td>&quot;06/23/2020&quot;</td><td>&quot;Simsbury&quot;</td><td>196570.0</td><td>299500.0</td><td>0.6563</td><td>&quot;Single Family&quot;</td><td>&quot;Single Family&quot;</td><td>null</td><td>null</td><td>null</td><td>null</td></tr><tr><td>200193</td><td>2020</td><td>&quot;11/18/2020&quot;</td><td>&quot;Bristol&quot;</td><td>&quot;14 CREST DR&quot;</td><td>150290.0</td><td>276000.0</td><td>0.5445</td><td>&quot;Residential&quot;</td><td>&quot;Single Family&quot;</td><td>null</td><td>null</td><td>null</td><td>null</td><td>190055</td><td>2019</td><td>&quot;12/16/2019&quot;</td><td>&quot;Cromwell&quot;</td><td>249270.0</td><td>350000.0</td><td>0.7122</td><td>&quot;Single Family&quot;</td><td>&quot;Single Family&quot;</td><td>null</td><td>null</td><td>null</td><td>null</td></tr><tr><td>201048</td><td>2020</td><td>&quot;07/13/2021&quot;</td><td>&quot;Bristol&quot;</td><td>&quot;17 LINCOLN ST&quot;</td><td>102270.0</td><td>190000.0</td><td>0.5382</td><td>&quot;Residential&quot;</td><td>&quot;Two Family&quot;</td><td>null</td><td>null</td><td>null</td><td>null</td><td>19062</td><td>2019</td><td>&quot;11/14/2019&quot;</td><td>&quot;Farmington&quot;</td><td>146200.0</td><td>225000.0</td><td>0.6498</td><td>&quot;Single Family&quot;</td><td>&quot;Single Family&quot;</td><td>null</td><td>null</td><td>null</td><td>null</td></tr><tr><td>200469</td><td>2020</td><td>&quot;05/13/2021&quot;</td><td>&quot;East Haven&quot;</td><td>&quot;15 ELM CT&quot;</td><td>108350.0</td><td>247000.0</td><td>0.4386</td><td>&quot;Residential&quot;</td><td>&quot;Single Family&quot;</td><td>null</td><td>null</td><td>null</td><td>null</td><td>190053</td><td>2019</td><td>&quot;11/14/2019&quot;</td><td>&quot;Plainville&quot;</td><td>121590.0</td><td>198000.0</td><td>0.6141</td><td>&quot;Single Family&quot;</td><td>&quot;Single Family&quot;</td><td>null</td><td>null</td><td>null</td><td>null</td></tr><tr><td>200097</td><td>2020</td><td>&quot;12/11/2020&quot;</td><td>&quot;Killingly&quot;</td><td>&quot;106 MAIN ST&quot;</td><td>64400.0</td><td>66900.0</td><td>0.9626</td><td>&quot;Commercial&quot;</td><td>null</td><td>null</td><td>null</td><td>null</td><td>null</td><td>1900142</td><td>2019</td><td>&quot;03/20/2020&quot;</td><td>&quot;East Hampton&quot;</td><td>27100.0</td><td>33700.0</td><td>0.8042</td><td>null</td><td>null</td><td>null</td><td>null</td><td>null</td><td>null</td></tr><tr><td>&hellip;</td><td>&hellip;</td><td>&hellip;</td><td>&hellip;</td><td>&hellip;</td><td>&hellip;</td><td>&hellip;</td><td>&hellip;</td><td>&hellip;</td><td>&hellip;</td><td>&hellip;</td><td>&hellip;</td><td>&hellip;</td><td>&hellip;</td><td>&hellip;</td><td>&hellip;</td><td>&hellip;</td><td>&hellip;</td><td>&hellip;</td><td>&hellip;</td><td>&hellip;</td><td>&hellip;</td><td>&hellip;</td><td>&hellip;</td><td>&hellip;</td><td>&hellip;</td><td>&hellip;</td></tr><tr><td>200061</td><td>2020</td><td>&quot;11/09/2020&quot;</td><td>&quot;Vernon&quot;</td><td>&quot;2 TERRACE DR&quot;</td><td>113910.0</td><td>101000.0</td><td>1.1278</td><td>&quot;Residential&quot;</td><td>&quot;Single Family&quot;</td><td>&quot;14 - Foreclosure&quot;</td><td>null</td><td>null</td><td>&quot;POINT (-72.47596 41.8638)&quot;</td><td>190151</td><td>2019</td><td>&quot;01/21/2020&quot;</td><td>&quot;Vernon&quot;</td><td>113910.0</td><td>91383.0</td><td>1.2465</td><td>&quot;Single Family&quot;</td><td>&quot;Single Family&quot;</td><td>&quot;14 - Foreclosure&quot;</td><td>null</td><td>null</td><td>&quot;POINT (-72.47596 41.8638)&quot;</td></tr><tr><td>200887</td><td>2020</td><td>&quot;07/22/2021&quot;</td><td>&quot;Torrington&quot;</td><td>&quot;39 PROSPECT ST&quot;</td><td>77860.0</td><td>200000.0</td><td>0.3893</td><td>&quot;Residential&quot;</td><td>&quot;Two Family&quot;</td><td>null</td><td>null</td><td>null</td><td>&quot;POINT (-73.12458 41.79851)&quot;</td><td>190138</td><td>2019</td><td>&quot;07/28/2020&quot;</td><td>&quot;Essex&quot;</td><td>246500.0</td><td>395000.0</td><td>0.6241</td><td>&quot;Single Family&quot;</td><td>&quot;Single Family&quot;</td><td>null</td><td>null</td><td>null</td><td>null</td></tr><tr><td>200228</td><td>2020</td><td>&quot;07/12/2021&quot;</td><td>&quot;Windsor Locks&quot;</td><td>&quot;58 GROVE ST&quot;</td><td>94850.0</td><td>180000.0</td><td>0.526944</td><td>&quot;Residential&quot;</td><td>&quot;Single Family&quot;</td><td>null</td><td>null</td><td>null</td><td>null</td><td>190231</td><td>2019</td><td>&quot;01/24/2020&quot;</td><td>&quot;Wallingford&quot;</td><td>175800.0</td><td>199000.0</td><td>0.8834</td><td>&quot;Single Family&quot;</td><td>&quot;Single Family&quot;</td><td>&quot;10 - A Will&quot;</td><td>null</td><td>null</td><td>&quot;POINT (-72.82989 41.49695)&quot;</td></tr><tr><td>200228</td><td>2020</td><td>&quot;07/12/2021&quot;</td><td>&quot;Windsor Locks&quot;</td><td>&quot;58 GROVE ST&quot;</td><td>94850.0</td><td>180000.0</td><td>0.526944</td><td>&quot;Residential&quot;</td><td>&quot;Single Family&quot;</td><td>null</td><td>null</td><td>null</td><td>null</td><td>190108</td><td>2019</td><td>&quot;03/30/2020&quot;</td><td>&quot;Windsor Locks&quot;</td><td>94850.0</td><td>153000.0</td><td>0.6199</td><td>&quot;Single Family&quot;</td><td>&quot;Single Family&quot;</td><td>null</td><td>null</td><td>null</td><td>null</td></tr><tr><td>200504</td><td>2020</td><td>&quot;07/20/2021&quot;</td><td>&quot;Windsor&quot;</td><td>&quot;40 LAST LEAF CIR&quot;</td><td>134260.0</td><td>252000.0</td><td>0.5327</td><td>&quot;Residential&quot;</td><td>&quot;Condo&quot;</td><td>null</td><td>null</td><td>null</td><td>null</td><td>190240</td><td>2019</td><td>&quot;04/08/2020&quot;</td><td>&quot;Windsor&quot;</td><td>134260.0</td><td>184000.0</td><td>0.7297</td><td>&quot;Condo&quot;</td><td>&quot;Condo&quot;</td><td>&quot;18 - In Lieu Of Foreclosure&quot;</td><td>null</td><td>null</td><td>null</td></tr></tbody></table></div>"
      ],
      "text/plain": [
       "shape: (3_382, 27)\n",
       "┌────────┬──────┬─────────────┬────────────┬───┬────────────┬────────────┬────────────┬────────────┐\n",
       "│ Serial ┆ List ┆ Date        ┆ Town       ┆ … ┆ Non Use    ┆ Assessor   ┆ OPM remark ┆ Location_r │\n",
       "│ Number ┆ Year ┆ Recorded    ┆ ---        ┆   ┆ Code_right ┆ Remarks_ri ┆ s_right    ┆ ight       │\n",
       "│ ---    ┆ ---  ┆ ---         ┆ str        ┆   ┆ ---        ┆ ght        ┆ ---        ┆ ---        │\n",
       "│ i64    ┆ i64  ┆ str         ┆            ┆   ┆ str        ┆ ---        ┆ str        ┆ str        │\n",
       "│        ┆      ┆             ┆            ┆   ┆            ┆ str        ┆            ┆            │\n",
       "╞════════╪══════╪═════════════╪════════════╪═══╪════════════╪════════════╪════════════╪════════════╡\n",
       "│ 200121 ┆ 2020 ┆ 12/15/2020  ┆ Avon       ┆ … ┆ null       ┆ null       ┆ null       ┆ null       │\n",
       "│ 200193 ┆ 2020 ┆ 11/18/2020  ┆ Bristol    ┆ … ┆ null       ┆ null       ┆ null       ┆ null       │\n",
       "│ 201048 ┆ 2020 ┆ 07/13/2021  ┆ Bristol    ┆ … ┆ null       ┆ null       ┆ null       ┆ null       │\n",
       "│ 200469 ┆ 2020 ┆ 05/13/2021  ┆ East Haven ┆ … ┆ null       ┆ null       ┆ null       ┆ null       │\n",
       "│ 200097 ┆ 2020 ┆ 12/11/2020  ┆ Killingly  ┆ … ┆ null       ┆ null       ┆ null       ┆ null       │\n",
       "│ …      ┆ …    ┆ …           ┆ …          ┆ … ┆ …          ┆ …          ┆ …          ┆ …          │\n",
       "│ 200061 ┆ 2020 ┆ 11/09/2020  ┆ Vernon     ┆ … ┆ 14 - Forec ┆ null       ┆ null       ┆ POINT      │\n",
       "│        ┆      ┆             ┆            ┆   ┆ losure     ┆            ┆            ┆ (-72.47596 │\n",
       "│        ┆      ┆             ┆            ┆   ┆            ┆            ┆            ┆ 41.8638)   │\n",
       "│ 200887 ┆ 2020 ┆ 07/22/2021  ┆ Torrington ┆ … ┆ null       ┆ null       ┆ null       ┆ null       │\n",
       "│ 200228 ┆ 2020 ┆ 07/12/2021  ┆ Windsor    ┆ … ┆ 10 - A     ┆ null       ┆ null       ┆ POINT      │\n",
       "│        ┆      ┆             ┆ Locks      ┆   ┆ Will       ┆            ┆            ┆ (-72.82989 │\n",
       "│        ┆      ┆             ┆            ┆   ┆            ┆            ┆            ┆ 41.49695)  │\n",
       "│ 200228 ┆ 2020 ┆ 07/12/2021  ┆ Windsor    ┆ … ┆ null       ┆ null       ┆ null       ┆ null       │\n",
       "│        ┆      ┆             ┆ Locks      ┆   ┆            ┆            ┆            ┆            │\n",
       "│ 200504 ┆ 2020 ┆ 07/20/2021  ┆ Windsor    ┆ … ┆ 18 - In    ┆ null       ┆ null       ┆ null       │\n",
       "│        ┆      ┆             ┆            ┆   ┆ Lieu Of    ┆            ┆            ┆            │\n",
       "│        ┆      ┆             ┆            ┆   ┆ Foreclosur ┆            ┆            ┆            │\n",
       "│        ┆      ┆             ┆            ┆   ┆ e          ┆            ┆            ┆            │\n",
       "└────────┴──────┴─────────────┴────────────┴───┴────────────┴────────────┴────────────┴────────────┘"
      ]
     },
     "execution_count": 19,
     "metadata": {},
     "output_type": "execute_result"
    }
   ],
   "source": [
    "# Sample data\n",
    "df1 = df.filter(pl.col('List Year') == 2020)\n",
    "df2 = df.filter(pl.col('List Year') == 2019)\n",
    "\n",
    "# Inner join\n",
    "df1.join(df2, on='Address', how = 'inner').collect()"
   ]
  },
  {
   "cell_type": "markdown",
   "id": "d214b8ed",
   "metadata": {},
   "source": [
    "#### Union All"
   ]
  },
  {
   "cell_type": "code",
   "execution_count": null,
   "id": "b5e9be9e",
   "metadata": {},
   "outputs": [
    {
     "data": {
      "text/html": [
       "<div><style>\n",
       ".dataframe > thead > tr,\n",
       ".dataframe > tbody > tr {\n",
       "  text-align: right;\n",
       "  white-space: pre-wrap;\n",
       "}\n",
       "</style>\n",
       "<small>shape: (125_546, 14)</small><table border=\"1\" class=\"dataframe\"><thead><tr><th>Serial Number</th><th>List Year</th><th>Date Recorded</th><th>Town</th><th>Address</th><th>Assessed Value</th><th>Sale Amount</th><th>Sales Ratio</th><th>Property Type</th><th>Residential Type</th><th>Non Use Code</th><th>Assessor Remarks</th><th>OPM remarks</th><th>Location</th></tr><tr><td>i64</td><td>i64</td><td>str</td><td>str</td><td>str</td><td>f64</td><td>f64</td><td>f64</td><td>str</td><td>str</td><td>str</td><td>str</td><td>str</td><td>str</td></tr></thead><tbody><tr><td>2020177</td><td>2020</td><td>&quot;04/14/2021&quot;</td><td>&quot;Ansonia&quot;</td><td>&quot;323 BEAVER ST&quot;</td><td>133000.0</td><td>248400.0</td><td>0.5354</td><td>&quot;Residential&quot;</td><td>&quot;Single Family&quot;</td><td>null</td><td>null</td><td>null</td><td>&quot;POINT (-73.06822 41.35014)&quot;</td></tr><tr><td>2020225</td><td>2020</td><td>&quot;05/26/2021&quot;</td><td>&quot;Ansonia&quot;</td><td>&quot;152 JACKSON ST&quot;</td><td>110500.0</td><td>239900.0</td><td>0.4606</td><td>&quot;Residential&quot;</td><td>&quot;Three Family&quot;</td><td>null</td><td>null</td><td>null</td><td>null</td></tr><tr><td>2020348</td><td>2020</td><td>&quot;09/13/2021&quot;</td><td>&quot;Ansonia&quot;</td><td>&quot;230 WAKELEE AVE&quot;</td><td>150500.0</td><td>325000.0</td><td>0.463</td><td>&quot;Commercial&quot;</td><td>null</td><td>null</td><td>null</td><td>null</td><td>null</td></tr><tr><td>2020090</td><td>2020</td><td>&quot;12/14/2020&quot;</td><td>&quot;Ansonia&quot;</td><td>&quot;57 PLATT ST&quot;</td><td>127400.0</td><td>202500.0</td><td>0.6291</td><td>&quot;Residential&quot;</td><td>&quot;Two Family&quot;</td><td>null</td><td>null</td><td>null</td><td>null</td></tr><tr><td>200500</td><td>2020</td><td>&quot;09/07/2021&quot;</td><td>&quot;Avon&quot;</td><td>&quot;245 NEW ROAD&quot;</td><td>217640.0</td><td>400000.0</td><td>0.5441</td><td>&quot;Residential&quot;</td><td>&quot;Single Family&quot;</td><td>null</td><td>null</td><td>null</td><td>null</td></tr><tr><td>&hellip;</td><td>&hellip;</td><td>&hellip;</td><td>&hellip;</td><td>&hellip;</td><td>&hellip;</td><td>&hellip;</td><td>&hellip;</td><td>&hellip;</td><td>&hellip;</td><td>&hellip;</td><td>&hellip;</td><td>&hellip;</td><td>&hellip;</td></tr><tr><td>190272</td><td>2019</td><td>&quot;06/24/2020&quot;</td><td>&quot;New London&quot;</td><td>&quot;4 BISHOP CT&quot;</td><td>60410.0</td><td>53100.0</td><td>1.137665</td><td>&quot;Single Family&quot;</td><td>&quot;Single Family&quot;</td><td>&quot;14 - Foreclosure&quot;</td><td>null</td><td>null</td><td>null</td></tr><tr><td>190284</td><td>2019</td><td>&quot;11/27/2019&quot;</td><td>&quot;Waterbury&quot;</td><td>&quot;126 PERKINS AVE&quot;</td><td>68280.0</td><td>76000.0</td><td>0.8984</td><td>&quot;Single Family&quot;</td><td>&quot;Single Family&quot;</td><td>&quot;25 - Other&quot;</td><td>&quot;PRIVATE SALE&quot;</td><td>null</td><td>null</td></tr><tr><td>190129</td><td>2019</td><td>&quot;04/27/2020&quot;</td><td>&quot;Windsor Locks&quot;</td><td>&quot;19 HATHAWAY ST&quot;</td><td>121450.0</td><td>210000.0</td><td>0.5783</td><td>&quot;Single Family&quot;</td><td>&quot;Single Family&quot;</td><td>null</td><td>null</td><td>null</td><td>null</td></tr><tr><td>190504</td><td>2019</td><td>&quot;06/03/2020&quot;</td><td>&quot;Middletown&quot;</td><td>&quot;8 BYSTREK DR&quot;</td><td>203360.0</td><td>280000.0</td><td>0.7263</td><td>&quot;Single Family&quot;</td><td>&quot;Single Family&quot;</td><td>null</td><td>null</td><td>null</td><td>null</td></tr><tr><td>190344</td><td>2019</td><td>&quot;12/20/2019&quot;</td><td>&quot;Milford&quot;</td><td>&quot;250 RESEARCH DR&quot;</td><td>4.03597e6</td><td>7.45e6</td><td>0.5417</td><td>null</td><td>null</td><td>null</td><td>null</td><td>null</td><td>null</td></tr></tbody></table></div>"
      ],
      "text/plain": [
       "shape: (125_546, 14)\n",
       "┌────────────┬──────┬────────────┬────────────┬───┬────────────┬───────────┬───────────┬───────────┐\n",
       "│ Serial     ┆ List ┆ Date       ┆ Town       ┆ … ┆ Non Use    ┆ Assessor  ┆ OPM       ┆ Location  │\n",
       "│ Number     ┆ Year ┆ Recorded   ┆ ---        ┆   ┆ Code       ┆ Remarks   ┆ remarks   ┆ ---       │\n",
       "│ ---        ┆ ---  ┆ ---        ┆ str        ┆   ┆ ---        ┆ ---       ┆ ---       ┆ str       │\n",
       "│ i64        ┆ i64  ┆ str        ┆            ┆   ┆ str        ┆ str       ┆ str       ┆           │\n",
       "╞════════════╪══════╪════════════╪════════════╪═══╪════════════╪═══════════╪═══════════╪═══════════╡\n",
       "│ 2020177    ┆ 2020 ┆ 04/14/2021 ┆ Ansonia    ┆ … ┆ null       ┆ null      ┆ null      ┆ POINT (-7 │\n",
       "│            ┆      ┆            ┆            ┆   ┆            ┆           ┆           ┆ 3.06822   │\n",
       "│            ┆      ┆            ┆            ┆   ┆            ┆           ┆           ┆ 41.35014) │\n",
       "│ 2020225    ┆ 2020 ┆ 05/26/2021 ┆ Ansonia    ┆ … ┆ null       ┆ null      ┆ null      ┆ null      │\n",
       "│ 2020348    ┆ 2020 ┆ 09/13/2021 ┆ Ansonia    ┆ … ┆ null       ┆ null      ┆ null      ┆ null      │\n",
       "│ 2020090    ┆ 2020 ┆ 12/14/2020 ┆ Ansonia    ┆ … ┆ null       ┆ null      ┆ null      ┆ null      │\n",
       "│ 200500     ┆ 2020 ┆ 09/07/2021 ┆ Avon       ┆ … ┆ null       ┆ null      ┆ null      ┆ null      │\n",
       "│ …          ┆ …    ┆ …          ┆ …          ┆ … ┆ …          ┆ …         ┆ …         ┆ …         │\n",
       "│ 190272     ┆ 2019 ┆ 06/24/2020 ┆ New London ┆ … ┆ 14 - Forec ┆ null      ┆ null      ┆ null      │\n",
       "│            ┆      ┆            ┆            ┆   ┆ losure     ┆           ┆           ┆           │\n",
       "│ 190284     ┆ 2019 ┆ 11/27/2019 ┆ Waterbury  ┆ … ┆ 25 - Other ┆ PRIVATE   ┆ null      ┆ null      │\n",
       "│            ┆      ┆            ┆            ┆   ┆            ┆ SALE      ┆           ┆           │\n",
       "│ 190129     ┆ 2019 ┆ 04/27/2020 ┆ Windsor    ┆ … ┆ null       ┆ null      ┆ null      ┆ null      │\n",
       "│            ┆      ┆            ┆ Locks      ┆   ┆            ┆           ┆           ┆           │\n",
       "│ 190504     ┆ 2019 ┆ 06/03/2020 ┆ Middletown ┆ … ┆ null       ┆ null      ┆ null      ┆ null      │\n",
       "│ 190344     ┆ 2019 ┆ 12/20/2019 ┆ Milford    ┆ … ┆ null       ┆ null      ┆ null      ┆ null      │\n",
       "└────────────┴──────┴────────────┴────────────┴───┴────────────┴───────────┴───────────┴───────────┘"
      ]
     },
     "execution_count": 20,
     "metadata": {},
     "output_type": "execute_result"
    }
   ],
   "source": [
    "# Concatenation of previous DataFrames\n",
    "\n",
    "pl.concat([df1, df2], how='diagonal_relaxed').collect()"
   ]
  },
  {
   "cell_type": "markdown",
   "id": "ebc7a99d",
   "metadata": {},
   "source": [
    "#### Union"
   ]
  },
  {
   "cell_type": "code",
   "execution_count": null,
   "id": "02a61c1a",
   "metadata": {},
   "outputs": [
    {
     "data": {
      "text/html": [
       "<div><style>\n",
       ".dataframe > thead > tr,\n",
       ".dataframe > tbody > tr {\n",
       "  text-align: right;\n",
       "  white-space: pre-wrap;\n",
       "}\n",
       "</style>\n",
       "<small>shape: (117_769, 14)</small><table border=\"1\" class=\"dataframe\"><thead><tr><th>Serial Number</th><th>List Year</th><th>Date Recorded</th><th>Town</th><th>Address</th><th>Assessed Value</th><th>Sale Amount</th><th>Sales Ratio</th><th>Property Type</th><th>Residential Type</th><th>Non Use Code</th><th>Assessor Remarks</th><th>OPM remarks</th><th>Location</th></tr><tr><td>i64</td><td>i64</td><td>str</td><td>str</td><td>str</td><td>f64</td><td>f64</td><td>f64</td><td>str</td><td>str</td><td>str</td><td>str</td><td>str</td><td>str</td></tr></thead><tbody><tr><td>19000191</td><td>2019</td><td>&quot;07/27/2020&quot;</td><td>&quot;Granby&quot;</td><td>&quot;11 OAKRIDGE DR&quot;</td><td>126840.0</td><td>210000.0</td><td>0.604</td><td>&quot;Single Family&quot;</td><td>&quot;Single Family&quot;</td><td>null</td><td>null</td><td>null</td><td>null</td></tr><tr><td>201081</td><td>2020</td><td>&quot;06/28/2021&quot;</td><td>&quot;New Haven&quot;</td><td>&quot;53 HARBOUR CLOSE # B-53&quot;</td><td>125860.0</td><td>228000.0</td><td>0.552</td><td>&quot;Residential&quot;</td><td>&quot;Condo&quot;</td><td>null</td><td>null</td><td>null</td><td>null</td></tr><tr><td>200047</td><td>2020</td><td>&quot;10/20/2020&quot;</td><td>&quot;Glastonbury&quot;</td><td>&quot;149 POND CIR&quot;</td><td>157200.0</td><td>260000.0</td><td>0.6046</td><td>&quot;Residential&quot;</td><td>&quot;Single Family&quot;</td><td>null</td><td>null</td><td>null</td><td>null</td></tr><tr><td>200721</td><td>2020</td><td>&quot;12/28/2020&quot;</td><td>&quot;Waterbury&quot;</td><td>&quot;49 FOX RUN RD&quot;</td><td>95370.0</td><td>217000.0</td><td>0.4394</td><td>&quot;Residential&quot;</td><td>&quot;Single Family&quot;</td><td>null</td><td>null</td><td>null</td><td>null</td></tr><tr><td>200132</td><td>2020</td><td>&quot;04/06/2021&quot;</td><td>&quot;Westbrook&quot;</td><td>&quot;18 OLD FORGE RD&quot;</td><td>44770.0</td><td>76000.0</td><td>0.589</td><td>&quot;Residential&quot;</td><td>&quot;Single Family&quot;</td><td>null</td><td>&quot;MANUFACTURED HOME&quot;</td><td>null</td><td>&quot;POINT (-72.43206 41.28308)&quot;</td></tr><tr><td>&hellip;</td><td>&hellip;</td><td>&hellip;</td><td>&hellip;</td><td>&hellip;</td><td>&hellip;</td><td>&hellip;</td><td>&hellip;</td><td>&hellip;</td><td>&hellip;</td><td>&hellip;</td><td>&hellip;</td><td>&hellip;</td><td>&hellip;</td></tr><tr><td>190274</td><td>2019</td><td>&quot;02/04/2020&quot;</td><td>&quot;Norwich&quot;</td><td>&quot;113 OX HILL RD&quot;</td><td>278700.0</td><td>452000.0</td><td>0.6166</td><td>&quot;Single Family&quot;</td><td>&quot;Single Family&quot;</td><td>&quot;25 - Other&quot;</td><td>&quot;INCORRECT LEGAL/WAITING FOR CO…</td><td>null</td><td>null</td></tr><tr><td>19280</td><td>2019</td><td>&quot;07/09/2020&quot;</td><td>&quot;Darien&quot;</td><td>&quot;97 RAYMOND STREET&quot;</td><td>1.29731e6</td><td>2.2875e6</td><td>0.5671</td><td>&quot;Single Family&quot;</td><td>&quot;Single Family&quot;</td><td>null</td><td>null</td><td>null</td><td>null</td></tr><tr><td>20139</td><td>2020</td><td>&quot;08/17/2021&quot;</td><td>&quot;Lebanon&quot;</td><td>&quot;FOWLER RD (265-28.004)&quot;</td><td>38610.0</td><td>395000.0</td><td>0.0977</td><td>&quot;Vacant Land&quot;</td><td>null</td><td>&quot;25 - Other&quot;</td><td>&quot;2 PARCELS&quot;</td><td>null</td><td>&quot;POINT (-72.23176 41.5951)&quot;</td></tr><tr><td>200459</td><td>2020</td><td>&quot;01/14/2021&quot;</td><td>&quot;Manchester&quot;</td><td>&quot;216 WALEK FARMS ROAD&quot;</td><td>181900.0</td><td>300000.0</td><td>0.6063</td><td>&quot;Residential&quot;</td><td>&quot;Single Family&quot;</td><td>null</td><td>null</td><td>null</td><td>null</td></tr><tr><td>200092</td><td>2020</td><td>&quot;05/19/2021&quot;</td><td>&quot;Washington&quot;</td><td>&quot;58 SHEARER RD&quot;</td><td>318130.0</td><td>698000.0</td><td>0.4557</td><td>&quot;Residential&quot;</td><td>&quot;Single Family&quot;</td><td>null</td><td>null</td><td>null</td><td>&quot;POINT (-73.27006 41.66811)&quot;</td></tr></tbody></table></div>"
      ],
      "text/plain": [
       "shape: (117_769, 14)\n",
       "┌────────────┬──────┬────────────┬────────────┬───┬────────────┬───────────┬───────────┬───────────┐\n",
       "│ Serial     ┆ List ┆ Date       ┆ Town       ┆ … ┆ Non Use    ┆ Assessor  ┆ OPM       ┆ Location  │\n",
       "│ Number     ┆ Year ┆ Recorded   ┆ ---        ┆   ┆ Code       ┆ Remarks   ┆ remarks   ┆ ---       │\n",
       "│ ---        ┆ ---  ┆ ---        ┆ str        ┆   ┆ ---        ┆ ---       ┆ ---       ┆ str       │\n",
       "│ i64        ┆ i64  ┆ str        ┆            ┆   ┆ str        ┆ str       ┆ str       ┆           │\n",
       "╞════════════╪══════╪════════════╪════════════╪═══╪════════════╪═══════════╪═══════════╪═══════════╡\n",
       "│ 19000191   ┆ 2019 ┆ 07/27/2020 ┆ Granby     ┆ … ┆ null       ┆ null      ┆ null      ┆ null      │\n",
       "│ 201081     ┆ 2020 ┆ 06/28/2021 ┆ New Haven  ┆ … ┆ null       ┆ null      ┆ null      ┆ null      │\n",
       "│ 200047     ┆ 2020 ┆ 10/20/2020 ┆ Glastonbur ┆ … ┆ null       ┆ null      ┆ null      ┆ null      │\n",
       "│            ┆      ┆            ┆ y          ┆   ┆            ┆           ┆           ┆           │\n",
       "│ 200721     ┆ 2020 ┆ 12/28/2020 ┆ Waterbury  ┆ … ┆ null       ┆ null      ┆ null      ┆ null      │\n",
       "│ 200132     ┆ 2020 ┆ 04/06/2021 ┆ Westbrook  ┆ … ┆ null       ┆ MANUFACTU ┆ null      ┆ POINT (-7 │\n",
       "│            ┆      ┆            ┆            ┆   ┆            ┆ RED HOME  ┆           ┆ 2.43206   │\n",
       "│            ┆      ┆            ┆            ┆   ┆            ┆           ┆           ┆ 41.28308) │\n",
       "│ …          ┆ …    ┆ …          ┆ …          ┆ … ┆ …          ┆ …         ┆ …         ┆ …         │\n",
       "│ 190274     ┆ 2019 ┆ 02/04/2020 ┆ Norwich    ┆ … ┆ 25 - Other ┆ INCORRECT ┆ null      ┆ null      │\n",
       "│            ┆      ┆            ┆            ┆   ┆            ┆ LEGAL/WAI ┆           ┆           │\n",
       "│            ┆      ┆            ┆            ┆   ┆            ┆ TING FOR  ┆           ┆           │\n",
       "│            ┆      ┆            ┆            ┆   ┆            ┆ CO…       ┆           ┆           │\n",
       "│ 19280      ┆ 2019 ┆ 07/09/2020 ┆ Darien     ┆ … ┆ null       ┆ null      ┆ null      ┆ null      │\n",
       "│ 20139      ┆ 2020 ┆ 08/17/2021 ┆ Lebanon    ┆ … ┆ 25 - Other ┆ 2 PARCELS ┆ null      ┆ POINT (-7 │\n",
       "│            ┆      ┆            ┆            ┆   ┆            ┆           ┆           ┆ 2.23176   │\n",
       "│            ┆      ┆            ┆            ┆   ┆            ┆           ┆           ┆ 41.5951)  │\n",
       "│ 200459     ┆ 2020 ┆ 01/14/2021 ┆ Manchester ┆ … ┆ null       ┆ null      ┆ null      ┆ null      │\n",
       "│ 200092     ┆ 2020 ┆ 05/19/2021 ┆ Washington ┆ … ┆ null       ┆ null      ┆ null      ┆ POINT (-7 │\n",
       "│            ┆      ┆            ┆            ┆   ┆            ┆           ┆           ┆ 3.27006   │\n",
       "│            ┆      ┆            ┆            ┆   ┆            ┆           ┆           ┆ 41.66811) │\n",
       "└────────────┴──────┴────────────┴────────────┴───┴────────────┴───────────┴───────────┴───────────┘"
      ]
     },
     "execution_count": 21,
     "metadata": {},
     "output_type": "execute_result"
    }
   ],
   "source": [
    "# Concatenation while enforcing uniqueness on the 'Address' column\n",
    "\n",
    "pl.concat([df1, df2], how='diagonal_relaxed').unique('Address').collect()"
   ]
  },
  {
   "cell_type": "markdown",
   "id": "9140e58e",
   "metadata": {},
   "source": [
    "## Aggregations"
   ]
  },
  {
   "cell_type": "markdown",
   "id": "3a5040db",
   "metadata": {},
   "source": [
    "#### Simple Grouping"
   ]
  },
  {
   "cell_type": "code",
   "execution_count": null,
   "id": "4db9bb60",
   "metadata": {},
   "outputs": [
    {
     "data": {
      "text/html": [
       "<div><style>\n",
       ".dataframe > thead > tr,\n",
       ".dataframe > tbody > tr {\n",
       "  text-align: right;\n",
       "  white-space: pre-wrap;\n",
       "}\n",
       "</style>\n",
       "<small>shape: (3_066, 6)</small><table border=\"1\" class=\"dataframe\"><thead><tr><th>List Year</th><th>Town</th><th>Avg Assessed Value</th><th>Avg Sale Amount</th><th>Median Assessed Value</th><th>Median Sale Amount</th></tr><tr><td>i64</td><td>str</td><td>f64</td><td>f64</td><td>f64</td><td>f64</td></tr></thead><tbody><tr><td>2001</td><td>&quot;Eastford&quot;</td><td>42143.275862</td><td>170997.689655</td><td>23510.0</td><td>48666.5</td></tr><tr><td>2001</td><td>&quot;Union&quot;</td><td>44832.258065</td><td>98736.774194</td><td>36950.0</td><td>90000.0</td></tr><tr><td>2001</td><td>&quot;Sterling&quot;</td><td>54886.99115</td><td>109120.672566</td><td>59190.0</td><td>110000.0</td></tr><tr><td>2001</td><td>&quot;Plainfield&quot;</td><td>56903.713528</td><td>112815.106101</td><td>58300.0</td><td>113000.0</td></tr><tr><td>2001</td><td>&quot;Chaplin&quot;</td><td>58055.555556</td><td>110212.462963</td><td>55500.0</td><td>107187.5</td></tr><tr><td>&hellip;</td><td>&hellip;</td><td>&hellip;</td><td>&hellip;</td><td>&hellip;</td><td>&hellip;</td></tr><tr><td>2022</td><td>&quot;Wilton&quot;</td><td>737009.40613</td><td>1.2333e6</td><td>473830.0</td><td>995000.0</td></tr><tr><td>2022</td><td>&quot;New Canaan&quot;</td><td>1.0148e6</td><td>1.7992e6</td><td>855820.0</td><td>1.575e6</td></tr><tr><td>2022</td><td>&quot;Westport&quot;</td><td>1.0663e6</td><td>2.2534e6</td><td>728750.0</td><td>1.65e6</td></tr><tr><td>2022</td><td>&quot;Darien&quot;</td><td>1.0778e6</td><td>2.1694e6</td><td>883855.0</td><td>1.8495e6</td></tr><tr><td>2022</td><td>&quot;Greenwich&quot;</td><td>3.3060e6</td><td>2.7829e6</td><td>1.01878e6</td><td>1.685e6</td></tr></tbody></table></div>"
      ],
      "text/plain": [
       "shape: (3_066, 6)\n",
       "┌───────────┬────────────┬──────────────┬─────────────────┬───────────────────────┬─────────────┐\n",
       "│ List Year ┆ Town       ┆ Avg Assessed ┆ Avg Sale Amount ┆ Median Assessed Value ┆ Median Sale │\n",
       "│ ---       ┆ ---        ┆ Value        ┆ ---             ┆ ---                   ┆ Amount      │\n",
       "│ i64       ┆ str        ┆ ---          ┆ f64             ┆ f64                   ┆ ---         │\n",
       "│           ┆            ┆ f64          ┆                 ┆                       ┆ f64         │\n",
       "╞═══════════╪════════════╪══════════════╪═════════════════╪═══════════════════════╪═════════════╡\n",
       "│ 2001      ┆ Eastford   ┆ 42143.275862 ┆ 170997.689655   ┆ 23510.0               ┆ 48666.5     │\n",
       "│ 2001      ┆ Union      ┆ 44832.258065 ┆ 98736.774194    ┆ 36950.0               ┆ 90000.0     │\n",
       "│ 2001      ┆ Sterling   ┆ 54886.99115  ┆ 109120.672566   ┆ 59190.0               ┆ 110000.0    │\n",
       "│ 2001      ┆ Plainfield ┆ 56903.713528 ┆ 112815.106101   ┆ 58300.0               ┆ 113000.0    │\n",
       "│ 2001      ┆ Chaplin    ┆ 58055.555556 ┆ 110212.462963   ┆ 55500.0               ┆ 107187.5    │\n",
       "│ …         ┆ …          ┆ …            ┆ …               ┆ …                     ┆ …           │\n",
       "│ 2022      ┆ Wilton     ┆ 737009.40613 ┆ 1.2333e6        ┆ 473830.0              ┆ 995000.0    │\n",
       "│ 2022      ┆ New Canaan ┆ 1.0148e6     ┆ 1.7992e6        ┆ 855820.0              ┆ 1.575e6     │\n",
       "│ 2022      ┆ Westport   ┆ 1.0663e6     ┆ 2.2534e6        ┆ 728750.0              ┆ 1.65e6      │\n",
       "│ 2022      ┆ Darien     ┆ 1.0778e6     ┆ 2.1694e6        ┆ 883855.0              ┆ 1.8495e6    │\n",
       "│ 2022      ┆ Greenwich  ┆ 3.3060e6     ┆ 2.7829e6        ┆ 1.01878e6             ┆ 1.685e6     │\n",
       "└───────────┴────────────┴──────────────┴─────────────────┴───────────────────────┴─────────────┘"
      ]
     },
     "execution_count": 22,
     "metadata": {},
     "output_type": "execute_result"
    }
   ],
   "source": [
    "# Multi-index grouping with basic aggregations\n",
    "\n",
    "df.group_by(['List Year', 'Town']).agg([\n",
    "    pl.col('Assessed Value').mean().alias('Avg Assessed Value'),\n",
    "    pl.col('Sale Amount').mean().alias('Avg Sale Amount'),\n",
    "    pl.col('Assessed Value').median().alias('Median Assessed Value'),\n",
    "    pl.col('Sale Amount').median().alias('Median Sale Amount')\n",
    "]\n",
    ").sort(\n",
    "    by = ['List Year', 'Avg Assessed Value', 'Avg Sale Amount']\n",
    ").collect()"
   ]
  },
  {
   "cell_type": "markdown",
   "id": "77ddaa71",
   "metadata": {},
   "source": [
    "#### Grouping Without Aggregating"
   ]
  },
  {
   "cell_type": "code",
   "execution_count": null,
   "id": "f5b9dd69",
   "metadata": {},
   "outputs": [
    {
     "data": {
      "text/html": [
       "<div><style>\n",
       ".dataframe > thead > tr,\n",
       ".dataframe > tbody > tr {\n",
       "  text-align: right;\n",
       "  white-space: pre-wrap;\n",
       "}\n",
       "</style>\n",
       "<small>shape: (3_066, 4)</small><table border=\"1\" class=\"dataframe\"><thead><tr><th>List Year</th><th>Town</th><th>Assessed Values</th><th>Sale Amounts</th></tr><tr><td>i64</td><td>str</td><td>list[f64]</td><td>list[f64]</td></tr></thead><tbody><tr><td>2014</td><td>&quot;Warren&quot;</td><td>[211400.0, 169050.0, … 7690.0]</td><td>[380000.0, 234500.0, … 500000.0]</td></tr><tr><td>2015</td><td>&quot;Ridgefield&quot;</td><td>[593560.0, 210670.0, … 110140.0]</td><td>[850000.0, 150000.0, … 99225.0]</td></tr><tr><td>2022</td><td>&quot;Middlefield&quot;</td><td>[189400.0, 151900.0, … 251000.0]</td><td>[305000.0, 195000.0, … 300000.0]</td></tr><tr><td>2020</td><td>&quot;Portland&quot;</td><td>[56420.0, 209650.0, … 206570.0]</td><td>[56400.0, 393500.0, … 354000.0]</td></tr><tr><td>2001</td><td>&quot;Burlington&quot;</td><td>[68600.0, 124180.0, … 214900.0]</td><td>[125000.0, 268000.0, … 477000.0]</td></tr><tr><td>&hellip;</td><td>&hellip;</td><td>&hellip;</td><td>&hellip;</td></tr><tr><td>2003</td><td>&quot;Windham&quot;</td><td>[0.0, 49810.0, … 54530.0]</td><td>[160000.0, 110000.0, … 134000.0]</td></tr><tr><td>2016</td><td>&quot;New Hartford&quot;</td><td>[156800.0, 297850.0, … 185240.0]</td><td>[229000.0, 489900.0, … 270000.0]</td></tr><tr><td>2002</td><td>&quot;Suffield&quot;</td><td>[152670.0, 118650.0, … 53690.0]</td><td>[385000.0, 176000.0, … 89900.0]</td></tr><tr><td>2004</td><td>&quot;Marlborough&quot;</td><td>[117530.0, 56900.0, … 160490.0]</td><td>[218500.0, 507372.0, … 289000.0]</td></tr><tr><td>2001</td><td>&quot;Kent&quot;</td><td>[73400.0, 368400.0, … 207900.0]</td><td>[140000.0, 875000.0, … 439000.0]</td></tr></tbody></table></div>"
      ],
      "text/plain": [
       "shape: (3_066, 4)\n",
       "┌───────────┬──────────────┬─────────────────────────────────┬─────────────────────────────────┐\n",
       "│ List Year ┆ Town         ┆ Assessed Values                 ┆ Sale Amounts                    │\n",
       "│ ---       ┆ ---          ┆ ---                             ┆ ---                             │\n",
       "│ i64       ┆ str          ┆ list[f64]                       ┆ list[f64]                       │\n",
       "╞═══════════╪══════════════╪═════════════════════════════════╪═════════════════════════════════╡\n",
       "│ 2014      ┆ Warren       ┆ [211400.0, 169050.0, … 7690.0]  ┆ [380000.0, 234500.0, … 500000.… │\n",
       "│ 2015      ┆ Ridgefield   ┆ [593560.0, 210670.0, … 110140.… ┆ [850000.0, 150000.0, … 99225.0… │\n",
       "│ 2022      ┆ Middlefield  ┆ [189400.0, 151900.0, … 251000.… ┆ [305000.0, 195000.0, … 300000.… │\n",
       "│ 2020      ┆ Portland     ┆ [56420.0, 209650.0, … 206570.0… ┆ [56400.0, 393500.0, … 354000.0… │\n",
       "│ 2001      ┆ Burlington   ┆ [68600.0, 124180.0, … 214900.0… ┆ [125000.0, 268000.0, … 477000.… │\n",
       "│ …         ┆ …            ┆ …                               ┆ …                               │\n",
       "│ 2003      ┆ Windham      ┆ [0.0, 49810.0, … 54530.0]       ┆ [160000.0, 110000.0, … 134000.… │\n",
       "│ 2016      ┆ New Hartford ┆ [156800.0, 297850.0, … 185240.… ┆ [229000.0, 489900.0, … 270000.… │\n",
       "│ 2002      ┆ Suffield     ┆ [152670.0, 118650.0, … 53690.0… ┆ [385000.0, 176000.0, … 89900.0… │\n",
       "│ 2004      ┆ Marlborough  ┆ [117530.0, 56900.0, … 160490.0… ┆ [218500.0, 507372.0, … 289000.… │\n",
       "│ 2001      ┆ Kent         ┆ [73400.0, 368400.0, … 207900.0… ┆ [140000.0, 875000.0, … 439000.… │\n",
       "└───────────┴──────────────┴─────────────────────────────────┴─────────────────────────────────┘"
      ]
     },
     "execution_count": 23,
     "metadata": {},
     "output_type": "execute_result"
    }
   ],
   "source": [
    "# Creates a list if no aggregation is specified \n",
    "\n",
    "list_df = df.group_by(['List Year', 'Town']).agg([\n",
    "    pl.col('Assessed Value').alias('Assessed Values'),\n",
    "    pl.col('Sale Amount').alias('Sale Amounts') \n",
    "]).collect()\n",
    "\n",
    "list_df"
   ]
  },
  {
   "cell_type": "markdown",
   "id": "3ffc1e12",
   "metadata": {},
   "source": [
    "#### Using Non-Aggregating Groups to Limit Results by Group"
   ]
  },
  {
   "cell_type": "code",
   "execution_count": null,
   "id": "2bd0d3b0",
   "metadata": {},
   "outputs": [
    {
     "data": {
      "text/html": [
       "<div><style>\n",
       ".dataframe > thead > tr,\n",
       ".dataframe > tbody > tr {\n",
       "  text-align: right;\n",
       "  white-space: pre-wrap;\n",
       "}\n",
       "</style>\n",
       "<small>shape: (12_202, 4)</small><table border=\"1\" class=\"dataframe\"><thead><tr><th>List Year</th><th>Town</th><th>Assessed Values</th><th>Sale Amounts</th></tr><tr><td>i64</td><td>str</td><td>f64</td><td>f64</td></tr></thead><tbody><tr><td>2014</td><td>&quot;Warren&quot;</td><td>2.31616e6</td><td>8.9915e6</td></tr><tr><td>2014</td><td>&quot;Warren&quot;</td><td>1.64233e6</td><td>3.75e6</td></tr><tr><td>2014</td><td>&quot;Warren&quot;</td><td>1.43626e6</td><td>2.8e6</td></tr><tr><td>2014</td><td>&quot;Warren&quot;</td><td>619210.0</td><td>1.5585e6</td></tr><tr><td>2015</td><td>&quot;Ridgefield&quot;</td><td>5.53321e6</td><td>4.975e6</td></tr><tr><td>&hellip;</td><td>&hellip;</td><td>&hellip;</td><td>&hellip;</td></tr><tr><td>2004</td><td>&quot;Marlborough&quot;</td><td>403960.0</td><td>750000.0</td></tr><tr><td>2001</td><td>&quot;Kent&quot;</td><td>1.5888e6</td><td>5.4e6</td></tr><tr><td>2001</td><td>&quot;Kent&quot;</td><td>368400.0</td><td>1.059375e6</td></tr><tr><td>2001</td><td>&quot;Kent&quot;</td><td>361400.0</td><td>1e6</td></tr><tr><td>2001</td><td>&quot;Kent&quot;</td><td>361400.0</td><td>908036.0</td></tr></tbody></table></div>"
      ],
      "text/plain": [
       "shape: (12_202, 4)\n",
       "┌───────────┬─────────────┬─────────────────┬──────────────┐\n",
       "│ List Year ┆ Town        ┆ Assessed Values ┆ Sale Amounts │\n",
       "│ ---       ┆ ---         ┆ ---             ┆ ---          │\n",
       "│ i64       ┆ str         ┆ f64             ┆ f64          │\n",
       "╞═══════════╪═════════════╪═════════════════╪══════════════╡\n",
       "│ 2014      ┆ Warren      ┆ 2.31616e6       ┆ 8.9915e6     │\n",
       "│ 2014      ┆ Warren      ┆ 1.64233e6       ┆ 3.75e6       │\n",
       "│ 2014      ┆ Warren      ┆ 1.43626e6       ┆ 2.8e6        │\n",
       "│ 2014      ┆ Warren      ┆ 619210.0        ┆ 1.5585e6     │\n",
       "│ 2015      ┆ Ridgefield  ┆ 5.53321e6       ┆ 4.975e6      │\n",
       "│ …         ┆ …           ┆ …               ┆ …            │\n",
       "│ 2004      ┆ Marlborough ┆ 403960.0        ┆ 750000.0     │\n",
       "│ 2001      ┆ Kent        ┆ 1.5888e6        ┆ 5.4e6        │\n",
       "│ 2001      ┆ Kent        ┆ 368400.0        ┆ 1.059375e6   │\n",
       "│ 2001      ┆ Kent        ┆ 361400.0        ┆ 1e6          │\n",
       "│ 2001      ┆ Kent        ┆ 361400.0        ┆ 908036.0     │\n",
       "└───────────┴─────────────┴─────────────────┴──────────────┘"
      ]
     },
     "execution_count": 24,
     "metadata": {},
     "output_type": "execute_result"
    }
   ],
   "source": [
    "# List types can be sorted, sliced, and exploded to achieve a \"top nth\" result\n",
    "\n",
    "list_df.with_columns(\n",
    "    pl.col(\"Assessed Values\").list.sort(descending=True).list.slice(0, 4),\n",
    "    pl.col(\"Sale Amounts\").list.sort(descending=True).list.slice(0, 4),\n",
    ").explode(pl.col(\"Assessed Values\"), pl.col(\"Sale Amounts\"))"
   ]
  },
  {
   "cell_type": "markdown",
   "id": "369a7cb8",
   "metadata": {},
   "source": [
    "## Window Operations"
   ]
  },
  {
   "cell_type": "code",
   "execution_count": null,
   "id": "90d56515",
   "metadata": {},
   "outputs": [
    {
     "data": {
      "text/html": [
       "<div><style>\n",
       ".dataframe > thead > tr,\n",
       ".dataframe > tbody > tr {\n",
       "  text-align: right;\n",
       "  white-space: pre-wrap;\n",
       "}\n",
       "</style>\n",
       "<small>shape: (12, 3)</small><table border=\"1\" class=\"dataframe\"><thead><tr><th>List Year</th><th>Address</th><th>Assessed Value</th></tr><tr><td>i64</td><td>str</td><td>f64</td></tr></thead><tbody><tr><td>2001</td><td>&quot;1 CEDAR ST&quot;</td><td>73100.0</td></tr><tr><td>2002</td><td>&quot;1 CEDAR ST&quot;</td><td>66600.0</td></tr><tr><td>2004</td><td>&quot;1 CEDAR ST&quot;</td><td>67600.0</td></tr><tr><td>2005</td><td>&quot;1 CEDAR ST&quot;</td><td>42280.0</td></tr><tr><td>2008</td><td>&quot;1 CEDAR ST&quot;</td><td>99260.0</td></tr><tr><td>&hellip;</td><td>&hellip;</td><td>&hellip;</td></tr><tr><td>2013</td><td>&quot;1 CEDAR ST&quot;</td><td>166110.0</td></tr><tr><td>2013</td><td>&quot;1 CEDAR ST&quot;</td><td>136090.0</td></tr><tr><td>2013</td><td>&quot;1 CEDAR ST&quot;</td><td>118500.0</td></tr><tr><td>2019</td><td>&quot;1 CEDAR ST&quot;</td><td>106500.0</td></tr><tr><td>2020</td><td>&quot;1 CEDAR ST&quot;</td><td>138500.0</td></tr></tbody></table></div>"
      ],
      "text/plain": [
       "shape: (12, 3)\n",
       "┌───────────┬────────────┬────────────────┐\n",
       "│ List Year ┆ Address    ┆ Assessed Value │\n",
       "│ ---       ┆ ---        ┆ ---            │\n",
       "│ i64       ┆ str        ┆ f64            │\n",
       "╞═══════════╪════════════╪════════════════╡\n",
       "│ 2001      ┆ 1 CEDAR ST ┆ 73100.0        │\n",
       "│ 2002      ┆ 1 CEDAR ST ┆ 66600.0        │\n",
       "│ 2004      ┆ 1 CEDAR ST ┆ 67600.0        │\n",
       "│ 2005      ┆ 1 CEDAR ST ┆ 42280.0        │\n",
       "│ 2008      ┆ 1 CEDAR ST ┆ 99260.0        │\n",
       "│ …         ┆ …          ┆ …              │\n",
       "│ 2013      ┆ 1 CEDAR ST ┆ 166110.0       │\n",
       "│ 2013      ┆ 1 CEDAR ST ┆ 136090.0       │\n",
       "│ 2013      ┆ 1 CEDAR ST ┆ 118500.0       │\n",
       "│ 2019      ┆ 1 CEDAR ST ┆ 106500.0       │\n",
       "│ 2020      ┆ 1 CEDAR ST ┆ 138500.0       │\n",
       "└───────────┴────────────┴────────────────┘"
      ]
     },
     "execution_count": 25,
     "metadata": {},
     "output_type": "execute_result"
    }
   ],
   "source": [
    "# Create a DataFrame for the window\n",
    "\n",
    "window_data = df.select(\n",
    "    [\n",
    "        'List Year',\n",
    "        'Address',\n",
    "        'Assessed Value'\n",
    "     ]\n",
    "    ).filter(\n",
    "        pl.col('Address') == \"1 CEDAR ST\"\n",
    "    ).unique().collect().sort('List Year')\n",
    "\n",
    "window_data"
   ]
  },
  {
   "cell_type": "markdown",
   "id": "1a4f1e54",
   "metadata": {},
   "source": [
    "#### Using Over()"
   ]
  },
  {
   "cell_type": "code",
   "execution_count": null,
   "id": "3d461dc8",
   "metadata": {},
   "outputs": [
    {
     "data": {
      "text/html": [
       "<div><style>\n",
       ".dataframe > thead > tr,\n",
       ".dataframe > tbody > tr {\n",
       "  text-align: right;\n",
       "  white-space: pre-wrap;\n",
       "}\n",
       "</style>\n",
       "<small>shape: (12, 5)</small><table border=\"1\" class=\"dataframe\"><thead><tr><th>List Year</th><th>Address</th><th>Assessed Value</th><th>Total Rank</th><th>Yearly Rank</th></tr><tr><td>i64</td><td>str</td><td>f64</td><td>u32</td><td>u32</td></tr></thead><tbody><tr><td>2001</td><td>&quot;1 CEDAR ST&quot;</td><td>73100.0</td><td>9</td><td>1</td></tr><tr><td>2002</td><td>&quot;1 CEDAR ST&quot;</td><td>66600.0</td><td>11</td><td>1</td></tr><tr><td>2004</td><td>&quot;1 CEDAR ST&quot;</td><td>67600.0</td><td>10</td><td>1</td></tr><tr><td>2005</td><td>&quot;1 CEDAR ST&quot;</td><td>42280.0</td><td>12</td><td>1</td></tr><tr><td>2008</td><td>&quot;1 CEDAR ST&quot;</td><td>99260.0</td><td>8</td><td>1</td></tr><tr><td>&hellip;</td><td>&hellip;</td><td>&hellip;</td><td>&hellip;</td><td>&hellip;</td></tr><tr><td>2013</td><td>&quot;1 CEDAR ST&quot;</td><td>166110.0</td><td>1</td><td>1</td></tr><tr><td>2013</td><td>&quot;1 CEDAR ST&quot;</td><td>136090.0</td><td>4</td><td>2</td></tr><tr><td>2013</td><td>&quot;1 CEDAR ST&quot;</td><td>118500.0</td><td>5</td><td>3</td></tr><tr><td>2019</td><td>&quot;1 CEDAR ST&quot;</td><td>106500.0</td><td>7</td><td>1</td></tr><tr><td>2020</td><td>&quot;1 CEDAR ST&quot;</td><td>138500.0</td><td>3</td><td>1</td></tr></tbody></table></div>"
      ],
      "text/plain": [
       "shape: (12, 5)\n",
       "┌───────────┬────────────┬────────────────┬────────────┬─────────────┐\n",
       "│ List Year ┆ Address    ┆ Assessed Value ┆ Total Rank ┆ Yearly Rank │\n",
       "│ ---       ┆ ---        ┆ ---            ┆ ---        ┆ ---         │\n",
       "│ i64       ┆ str        ┆ f64            ┆ u32        ┆ u32         │\n",
       "╞═══════════╪════════════╪════════════════╪════════════╪═════════════╡\n",
       "│ 2001      ┆ 1 CEDAR ST ┆ 73100.0        ┆ 9          ┆ 1           │\n",
       "│ 2002      ┆ 1 CEDAR ST ┆ 66600.0        ┆ 11         ┆ 1           │\n",
       "│ 2004      ┆ 1 CEDAR ST ┆ 67600.0        ┆ 10         ┆ 1           │\n",
       "│ 2005      ┆ 1 CEDAR ST ┆ 42280.0        ┆ 12         ┆ 1           │\n",
       "│ 2008      ┆ 1 CEDAR ST ┆ 99260.0        ┆ 8          ┆ 1           │\n",
       "│ …         ┆ …          ┆ …              ┆ …          ┆ …           │\n",
       "│ 2013      ┆ 1 CEDAR ST ┆ 166110.0       ┆ 1          ┆ 1           │\n",
       "│ 2013      ┆ 1 CEDAR ST ┆ 136090.0       ┆ 4          ┆ 2           │\n",
       "│ 2013      ┆ 1 CEDAR ST ┆ 118500.0       ┆ 5          ┆ 3           │\n",
       "│ 2019      ┆ 1 CEDAR ST ┆ 106500.0       ┆ 7          ┆ 1           │\n",
       "│ 2020      ┆ 1 CEDAR ST ┆ 138500.0       ┆ 3          ┆ 1           │\n",
       "└───────────┴────────────┴────────────────┴────────────┴─────────────┘"
      ]
     },
     "execution_count": 26,
     "metadata": {},
     "output_type": "execute_result"
    }
   ],
   "source": [
    "# Multi-window operation - rank is over all the rows while the second ranks by year\n",
    "\n",
    "window_data.with_columns(\n",
    "    pl.col('Assessed Value').rank('dense', descending = True).alias('Total Rank'),\n",
    "    pl.col('Assessed Value').rank('dense', descending = True).over('List Year').alias('Yearly Rank')\n",
    ")\n",
    "                                                                       "
   ]
  },
  {
   "cell_type": "markdown",
   "id": "6b1b526a",
   "metadata": {},
   "source": [
    "#### Using Rolling()"
   ]
  },
  {
   "cell_type": "code",
   "execution_count": null,
   "id": "6d1c91d5",
   "metadata": {},
   "outputs": [
    {
     "data": {
      "text/html": [
       "<div><style>\n",
       ".dataframe > thead > tr,\n",
       ".dataframe > tbody > tr {\n",
       "  text-align: right;\n",
       "  white-space: pre-wrap;\n",
       "}\n",
       "</style>\n",
       "<small>shape: (10, 3)</small><table border=\"1\" class=\"dataframe\"><thead><tr><th>Date Recorded</th><th>Address</th><th>Assessed Value</th></tr><tr><td>date</td><td>str</td><td>i64</td></tr></thead><tbody><tr><td>2020-01-02</td><td>&quot;9 CAPT AMOS STANTON DR&quot;</td><td>194230</td></tr><tr><td>2020-01-03</td><td>&quot;6 RIVERCLIFF LA&quot;</td><td>160210</td></tr><tr><td>2020-01-06</td><td>&quot;3 SYLEO LANE&quot;</td><td>47600</td></tr><tr><td>2020-01-07</td><td>&quot;TWO POMPERAUG OFFICE PARK U#10&quot;</td><td>53560</td></tr><tr><td>2020-01-08</td><td>&quot;199 WILMOT RD&quot;</td><td>103740</td></tr><tr><td>2020-01-09</td><td>&quot;130 BROOKVIEW AVENUE&quot;</td><td>372470</td></tr><tr><td>2020-01-10</td><td>&quot;40 SOUTHWICK CT U212&quot;</td><td>64690</td></tr><tr><td>2020-01-13</td><td>&quot;31 WINTHROP WOODS RD&quot;</td><td>146160</td></tr><tr><td>2020-01-14</td><td>&quot;SEELYE RD&quot;</td><td>3090</td></tr><tr><td>2020-01-15</td><td>&quot;230 OLD GATE LN&quot;</td><td>1925000</td></tr></tbody></table></div>"
      ],
      "text/plain": [
       "shape: (10, 3)\n",
       "┌───────────────┬────────────────────────────────┬────────────────┐\n",
       "│ Date Recorded ┆ Address                        ┆ Assessed Value │\n",
       "│ ---           ┆ ---                            ┆ ---            │\n",
       "│ date          ┆ str                            ┆ i64            │\n",
       "╞═══════════════╪════════════════════════════════╪════════════════╡\n",
       "│ 2020-01-02    ┆ 9 CAPT AMOS STANTON DR         ┆ 194230         │\n",
       "│ 2020-01-03    ┆ 6 RIVERCLIFF LA                ┆ 160210         │\n",
       "│ 2020-01-06    ┆ 3 SYLEO LANE                   ┆ 47600          │\n",
       "│ 2020-01-07    ┆ TWO POMPERAUG OFFICE PARK U#10 ┆ 53560          │\n",
       "│ 2020-01-08    ┆ 199 WILMOT RD                  ┆ 103740         │\n",
       "│ 2020-01-09    ┆ 130 BROOKVIEW AVENUE           ┆ 372470         │\n",
       "│ 2020-01-10    ┆ 40 SOUTHWICK CT U212           ┆ 64690          │\n",
       "│ 2020-01-13    ┆ 31 WINTHROP WOODS RD           ┆ 146160         │\n",
       "│ 2020-01-14    ┆ SEELYE RD                      ┆ 3090           │\n",
       "│ 2020-01-15    ┆ 230 OLD GATE LN                ┆ 1925000        │\n",
       "└───────────────┴────────────────────────────────┴────────────────┘"
      ]
     },
     "execution_count": 27,
     "metadata": {},
     "output_type": "execute_result"
    }
   ],
   "source": [
    "# Create example df\n",
    "\n",
    "rolling_data = df.select(\n",
    "    [\n",
    "    pl.col('Date Recorded').str.strptime(pl.Date, r'%m/%d/%Y'),\n",
    "    pl.col('Address'),\n",
    "    pl.col('Assessed Value').cast(pl.Int64)\n",
    "    ]\n",
    "    ).filter(\n",
    "        pl.col('Date Recorded') > pl.date(2020, 1, 1)\n",
    "        ).collect(\n",
    "            ).unique('Date Recorded').sort('Date Recorded').limit(10)\n",
    "\n",
    "rolling_data"
   ]
  },
  {
   "cell_type": "code",
   "execution_count": null,
   "id": "6f6ab53c",
   "metadata": {},
   "outputs": [
    {
     "data": {
      "text/html": [
       "<div><style>\n",
       ".dataframe > thead > tr,\n",
       ".dataframe > tbody > tr {\n",
       "  text-align: right;\n",
       "  white-space: pre-wrap;\n",
       "}\n",
       "</style>\n",
       "<small>shape: (10, 6)</small><table border=\"1\" class=\"dataframe\"><thead><tr><th>Date Recorded</th><th>Address</th><th>Assessed Value</th><th>avg_Val</th><th>min_Val</th><th>max_Val</th></tr><tr><td>date</td><td>str</td><td>i64</td><td>f64</td><td>i64</td><td>i64</td></tr></thead><tbody><tr><td>2020-01-02</td><td>&quot;9 CAPT AMOS STANTON DR&quot;</td><td>194230</td><td>194230.0</td><td>194230</td><td>194230</td></tr><tr><td>2020-01-03</td><td>&quot;6 RIVERCLIFF LA&quot;</td><td>160210</td><td>177220.0</td><td>160210</td><td>194230</td></tr><tr><td>2020-01-06</td><td>&quot;3 SYLEO LANE&quot;</td><td>47600</td><td>47600.0</td><td>47600</td><td>47600</td></tr><tr><td>2020-01-07</td><td>&quot;TWO POMPERAUG OFFICE PARK U#10&quot;</td><td>53560</td><td>50580.0</td><td>47600</td><td>53560</td></tr><tr><td>2020-01-08</td><td>&quot;199 WILMOT RD&quot;</td><td>103740</td><td>68300.0</td><td>47600</td><td>103740</td></tr><tr><td>2020-01-09</td><td>&quot;130 BROOKVIEW AVENUE&quot;</td><td>372470</td><td>176590.0</td><td>53560</td><td>372470</td></tr><tr><td>2020-01-10</td><td>&quot;40 SOUTHWICK CT U212&quot;</td><td>64690</td><td>180300.0</td><td>64690</td><td>372470</td></tr><tr><td>2020-01-13</td><td>&quot;31 WINTHROP WOODS RD&quot;</td><td>146160</td><td>146160.0</td><td>146160</td><td>146160</td></tr><tr><td>2020-01-14</td><td>&quot;SEELYE RD&quot;</td><td>3090</td><td>74625.0</td><td>3090</td><td>146160</td></tr><tr><td>2020-01-15</td><td>&quot;230 OLD GATE LN&quot;</td><td>1925000</td><td>691416.666667</td><td>3090</td><td>1925000</td></tr></tbody></table></div>"
      ],
      "text/plain": [
       "shape: (10, 6)\n",
       "┌───────────────┬─────────────────────────────┬────────────────┬───────────────┬─────────┬─────────┐\n",
       "│ Date Recorded ┆ Address                     ┆ Assessed Value ┆ avg_Val       ┆ min_Val ┆ max_Val │\n",
       "│ ---           ┆ ---                         ┆ ---            ┆ ---           ┆ ---     ┆ ---     │\n",
       "│ date          ┆ str                         ┆ i64            ┆ f64           ┆ i64     ┆ i64     │\n",
       "╞═══════════════╪═════════════════════════════╪════════════════╪═══════════════╪═════════╪═════════╡\n",
       "│ 2020-01-02    ┆ 9 CAPT AMOS STANTON DR      ┆ 194230         ┆ 194230.0      ┆ 194230  ┆ 194230  │\n",
       "│ 2020-01-03    ┆ 6 RIVERCLIFF LA             ┆ 160210         ┆ 177220.0      ┆ 160210  ┆ 194230  │\n",
       "│ 2020-01-06    ┆ 3 SYLEO LANE                ┆ 47600          ┆ 47600.0       ┆ 47600   ┆ 47600   │\n",
       "│ 2020-01-07    ┆ TWO POMPERAUG OFFICE PARK   ┆ 53560          ┆ 50580.0       ┆ 47600   ┆ 53560   │\n",
       "│               ┆ U#10                        ┆                ┆               ┆         ┆         │\n",
       "│ 2020-01-08    ┆ 199 WILMOT RD               ┆ 103740         ┆ 68300.0       ┆ 47600   ┆ 103740  │\n",
       "│ 2020-01-09    ┆ 130 BROOKVIEW AVENUE        ┆ 372470         ┆ 176590.0      ┆ 53560   ┆ 372470  │\n",
       "│ 2020-01-10    ┆ 40 SOUTHWICK CT U212        ┆ 64690          ┆ 180300.0      ┆ 64690   ┆ 372470  │\n",
       "│ 2020-01-13    ┆ 31 WINTHROP WOODS RD        ┆ 146160         ┆ 146160.0      ┆ 146160  ┆ 146160  │\n",
       "│ 2020-01-14    ┆ SEELYE RD                   ┆ 3090           ┆ 74625.0       ┆ 3090    ┆ 146160  │\n",
       "│ 2020-01-15    ┆ 230 OLD GATE LN             ┆ 1925000        ┆ 691416.666667 ┆ 3090    ┆ 1925000 │\n",
       "└───────────────┴─────────────────────────────┴────────────────┴───────────────┴─────────┴─────────┘"
      ]
     },
     "execution_count": 28,
     "metadata": {},
     "output_type": "execute_result"
    }
   ],
   "source": [
    "# 3-day rolling mean, max and min\n",
    "\n",
    "rolling_data.with_columns(\n",
    "    avg_Val=pl.mean('Assessed Value').rolling(index_column='Date Recorded', period='3d'),\n",
    "    min_Val=pl.min('Assessed Value').rolling(index_column='Date Recorded', period='3d'),\n",
    "    max_Val=pl.max('Assessed Value').rolling(index_column='Date Recorded', period='3d'),\n",
    ")"
   ]
  },
  {
   "cell_type": "markdown",
   "id": "7737032d",
   "metadata": {},
   "source": [
    "## Pivots and Melts"
   ]
  },
  {
   "cell_type": "markdown",
   "id": "81367133",
   "metadata": {},
   "source": [
    "#### Pivot "
   ]
  },
  {
   "cell_type": "code",
   "execution_count": null,
   "id": "b4e4a092",
   "metadata": {},
   "outputs": [
    {
     "data": {
      "text/html": [
       "<div><style>\n",
       ".dataframe > thead > tr,\n",
       ".dataframe > tbody > tr {\n",
       "  text-align: right;\n",
       "  white-space: pre-wrap;\n",
       "}\n",
       "</style>\n",
       "<small>shape: (88, 3)</small><table border=\"1\" class=\"dataframe\"><thead><tr><th>List Year</th><th>Property Type</th><th>Median Sale Amount</th></tr><tr><td>i64</td><td>str</td><td>f64</td></tr></thead><tbody><tr><td>2021</td><td>&quot;Residential&quot;</td><td>315000.0</td></tr><tr><td>2020</td><td>&quot;Commercial&quot;</td><td>400000.0</td></tr><tr><td>2020</td><td>&quot;Public Utility&quot;</td><td>59950.0</td></tr><tr><td>2013</td><td>&quot;Two Family&quot;</td><td>130000.0</td></tr><tr><td>2020</td><td>&quot;Industrial&quot;</td><td>645000.0</td></tr><tr><td>&hellip;</td><td>&hellip;</td><td>&hellip;</td></tr><tr><td>2011</td><td>&quot;Condo&quot;</td><td>165000.0</td></tr><tr><td>2017</td><td>&quot;Two Family&quot;</td><td>175000.0</td></tr><tr><td>2012</td><td>&quot;Single Family&quot;</td><td>246000.0</td></tr><tr><td>2012</td><td>&quot;Two Family&quot;</td><td>127500.0</td></tr><tr><td>2011</td><td>&quot;Three Family&quot;</td><td>105000.0</td></tr></tbody></table></div>"
      ],
      "text/plain": [
       "shape: (88, 3)\n",
       "┌───────────┬────────────────┬────────────────────┐\n",
       "│ List Year ┆ Property Type  ┆ Median Sale Amount │\n",
       "│ ---       ┆ ---            ┆ ---                │\n",
       "│ i64       ┆ str            ┆ f64                │\n",
       "╞═══════════╪════════════════╪════════════════════╡\n",
       "│ 2021      ┆ Residential    ┆ 315000.0           │\n",
       "│ 2020      ┆ Commercial     ┆ 400000.0           │\n",
       "│ 2020      ┆ Public Utility ┆ 59950.0            │\n",
       "│ 2013      ┆ Two Family     ┆ 130000.0           │\n",
       "│ 2020      ┆ Industrial     ┆ 645000.0           │\n",
       "│ …         ┆ …              ┆ …                  │\n",
       "│ 2011      ┆ Condo          ┆ 165000.0           │\n",
       "│ 2017      ┆ Two Family     ┆ 175000.0           │\n",
       "│ 2012      ┆ Single Family  ┆ 246000.0           │\n",
       "│ 2012      ┆ Two Family     ┆ 127500.0           │\n",
       "│ 2011      ┆ Three Family   ┆ 105000.0           │\n",
       "└───────────┴────────────────┴────────────────────┘"
      ]
     },
     "execution_count": 29,
     "metadata": {},
     "output_type": "execute_result"
    }
   ],
   "source": [
    "# Create sample data by grouping median 'Sale Amount' by 'List Year', 'Property Type'\n",
    "\n",
    "pivot_sample = df.filter(\n",
    "    pl.col('Property Type').is_not_null()\n",
    "    ).group_by(['List Year', 'Property Type']\n",
    "               ).agg(pl.col('Sale Amount').median().alias('Median Sale Amount')\n",
    "                     ).collect()\n",
    "\n",
    "pivot_sample\n",
    "\n"
   ]
  },
  {
   "cell_type": "code",
   "execution_count": null,
   "id": "aebd52ea",
   "metadata": {},
   "outputs": [
    {
     "name": "stderr",
     "output_type": "stream",
     "text": [
      "/var/folders/qx/rknrr0jn6cv107ktbpq81t8c0000gn/T/ipykernel_70164/3279026587.py:3: DeprecationWarning: The argument `columns` for `DataFrame.pivot` is deprecated. It has been renamed to `on`.\n",
      "  pivot_sample.pivot(\n"
     ]
    },
    {
     "data": {
      "text/html": [
       "<div><style>\n",
       ".dataframe > thead > tr,\n",
       ".dataframe > tbody > tr {\n",
       "  text-align: right;\n",
       "  white-space: pre-wrap;\n",
       "}\n",
       "</style>\n",
       "<small>shape: (17, 12)</small><table border=\"1\" class=\"dataframe\"><thead><tr><th>List Year</th><th>Apartments</th><th>Commercial</th><th>Condo</th><th>Four Family</th><th>Industrial</th><th>Public Utility</th><th>Residential</th><th>Single Family</th><th>Three Family</th><th>Two Family</th><th>Vacant Land</th></tr><tr><td>i64</td><td>f64</td><td>f64</td><td>f64</td><td>f64</td><td>f64</td><td>f64</td><td>f64</td><td>f64</td><td>f64</td><td>f64</td><td>f64</td></tr></thead><tbody><tr><td>2006</td><td>null</td><td>null</td><td>197500.0</td><td>276750.0</td><td>null</td><td>null</td><td>null</td><td>303000.0</td><td>240000.0</td><td>235000.0</td><td>null</td></tr><tr><td>2007</td><td>null</td><td>null</td><td>200000.0</td><td>243000.0</td><td>null</td><td>null</td><td>null</td><td>270000.0</td><td>205000.0</td><td>200000.0</td><td>null</td></tr><tr><td>2008</td><td>null</td><td>null</td><td>178589.5</td><td>143000.0</td><td>null</td><td>null</td><td>null</td><td>238000.0</td><td>103000.0</td><td>145000.0</td><td>null</td></tr><tr><td>2009</td><td>null</td><td>null</td><td>180000.0</td><td>128830.5</td><td>null</td><td>null</td><td>null</td><td>247000.0</td><td>105000.0</td><td>138800.0</td><td>null</td></tr><tr><td>2010</td><td>null</td><td>null</td><td>171000.0</td><td>123500.0</td><td>null</td><td>null</td><td>null</td><td>239000.0</td><td>95000.0</td><td>125000.0</td><td>null</td></tr><tr><td>&hellip;</td><td>&hellip;</td><td>&hellip;</td><td>&hellip;</td><td>&hellip;</td><td>&hellip;</td><td>&hellip;</td><td>&hellip;</td><td>&hellip;</td><td>&hellip;</td><td>&hellip;</td><td>&hellip;</td></tr><tr><td>2018</td><td>null</td><td>null</td><td>160000.0</td><td>234500.0</td><td>null</td><td>null</td><td>null</td><td>245000.0</td><td>199000.0</td><td>187000.0</td><td>null</td></tr><tr><td>2019</td><td>null</td><td>null</td><td>177900.0</td><td>265000.0</td><td>null</td><td>null</td><td>null</td><td>280000.0</td><td>225000.0</td><td>205000.0</td><td>null</td></tr><tr><td>2020</td><td>400000.0</td><td>400000.0</td><td>null</td><td>null</td><td>645000.0</td><td>59950.0</td><td>290000.0</td><td>null</td><td>null</td><td>null</td><td>100000.0</td></tr><tr><td>2021</td><td>560000.0</td><td>425000.0</td><td>null</td><td>null</td><td>866250.0</td><td>20000.0</td><td>315000.0</td><td>null</td><td>null</td><td>null</td><td>110000.0</td></tr><tr><td>2022</td><td>550000.0</td><td>380000.0</td><td>null</td><td>null</td><td>700000.0</td><td>105000.0</td><td>325000.0</td><td>null</td><td>null</td><td>null</td><td>95000.0</td></tr></tbody></table></div>"
      ],
      "text/plain": [
       "shape: (17, 12)\n",
       "┌───────────┬───────────┬───────────┬──────────┬───┬───────────┬───────────┬───────────┬───────────┐\n",
       "│ List Year ┆ Apartment ┆ Commercia ┆ Condo    ┆ … ┆ Single    ┆ Three     ┆ Two       ┆ Vacant    │\n",
       "│ ---       ┆ s         ┆ l         ┆ ---      ┆   ┆ Family    ┆ Family    ┆ Family    ┆ Land      │\n",
       "│ i64       ┆ ---       ┆ ---       ┆ f64      ┆   ┆ ---       ┆ ---       ┆ ---       ┆ ---       │\n",
       "│           ┆ f64       ┆ f64       ┆          ┆   ┆ f64       ┆ f64       ┆ f64       ┆ f64       │\n",
       "╞═══════════╪═══════════╪═══════════╪══════════╪═══╪═══════════╪═══════════╪═══════════╪═══════════╡\n",
       "│ 2006      ┆ null      ┆ null      ┆ 197500.0 ┆ … ┆ 303000.0  ┆ 240000.0  ┆ 235000.0  ┆ null      │\n",
       "│ 2007      ┆ null      ┆ null      ┆ 200000.0 ┆ … ┆ 270000.0  ┆ 205000.0  ┆ 200000.0  ┆ null      │\n",
       "│ 2008      ┆ null      ┆ null      ┆ 178589.5 ┆ … ┆ 238000.0  ┆ 103000.0  ┆ 145000.0  ┆ null      │\n",
       "│ 2009      ┆ null      ┆ null      ┆ 180000.0 ┆ … ┆ 247000.0  ┆ 105000.0  ┆ 138800.0  ┆ null      │\n",
       "│ 2010      ┆ null      ┆ null      ┆ 171000.0 ┆ … ┆ 239000.0  ┆ 95000.0   ┆ 125000.0  ┆ null      │\n",
       "│ …         ┆ …         ┆ …         ┆ …        ┆ … ┆ …         ┆ …         ┆ …         ┆ …         │\n",
       "│ 2018      ┆ null      ┆ null      ┆ 160000.0 ┆ … ┆ 245000.0  ┆ 199000.0  ┆ 187000.0  ┆ null      │\n",
       "│ 2019      ┆ null      ┆ null      ┆ 177900.0 ┆ … ┆ 280000.0  ┆ 225000.0  ┆ 205000.0  ┆ null      │\n",
       "│ 2020      ┆ 400000.0  ┆ 400000.0  ┆ null     ┆ … ┆ null      ┆ null      ┆ null      ┆ 100000.0  │\n",
       "│ 2021      ┆ 560000.0  ┆ 425000.0  ┆ null     ┆ … ┆ null      ┆ null      ┆ null      ┆ 110000.0  │\n",
       "│ 2022      ┆ 550000.0  ┆ 380000.0  ┆ null     ┆ … ┆ null      ┆ null      ┆ null      ┆ 95000.0   │\n",
       "└───────────┴───────────┴───────────┴──────────┴───┴───────────┴───────────┴───────────┴───────────┘"
      ]
     },
     "execution_count": 30,
     "metadata": {},
     "output_type": "execute_result"
    }
   ],
   "source": [
    "# Pivot 'Property' Type into columns\n",
    "\n",
    "pivot_sample.pivot(\n",
    "    columns = 'Property Type', \n",
    "    index='List Year', \n",
    "    values='Median Sale Amount', \n",
    "    aggregate_function='mean', \n",
    "    sort_columns=True).sort('List Year')\n"
   ]
  },
  {
   "cell_type": "markdown",
   "id": "60e6b4f2",
   "metadata": {},
   "source": [
    "#### Melt"
   ]
  },
  {
   "cell_type": "code",
   "execution_count": null,
   "id": "316f5034",
   "metadata": {},
   "outputs": [
    {
     "data": {
      "text/html": [
       "<div><style>\n",
       ".dataframe > thead > tr,\n",
       ".dataframe > tbody > tr {\n",
       "  text-align: right;\n",
       "  white-space: pre-wrap;\n",
       "}\n",
       "</style>\n",
       "<small>shape: (5, 4)</small><table border=\"1\" class=\"dataframe\"><thead><tr><th>List Year</th><th>Address</th><th>Assessed Value</th><th>Sale Amount</th></tr><tr><td>i64</td><td>str</td><td>f64</td><td>f64</td></tr></thead><tbody><tr><td>2020</td><td>&quot;323 BEAVER ST&quot;</td><td>133000.0</td><td>248400.0</td></tr><tr><td>2020</td><td>&quot;152 JACKSON ST&quot;</td><td>110500.0</td><td>239900.0</td></tr><tr><td>2020</td><td>&quot;230 WAKELEE AVE&quot;</td><td>150500.0</td><td>325000.0</td></tr><tr><td>2020</td><td>&quot;57 PLATT ST&quot;</td><td>127400.0</td><td>202500.0</td></tr><tr><td>2020</td><td>&quot;245 NEW ROAD&quot;</td><td>217640.0</td><td>400000.0</td></tr></tbody></table></div>"
      ],
      "text/plain": [
       "shape: (5, 4)\n",
       "┌───────────┬─────────────────┬────────────────┬─────────────┐\n",
       "│ List Year ┆ Address         ┆ Assessed Value ┆ Sale Amount │\n",
       "│ ---       ┆ ---             ┆ ---            ┆ ---         │\n",
       "│ i64       ┆ str             ┆ f64            ┆ f64         │\n",
       "╞═══════════╪═════════════════╪════════════════╪═════════════╡\n",
       "│ 2020      ┆ 323 BEAVER ST   ┆ 133000.0       ┆ 248400.0    │\n",
       "│ 2020      ┆ 152 JACKSON ST  ┆ 110500.0       ┆ 239900.0    │\n",
       "│ 2020      ┆ 230 WAKELEE AVE ┆ 150500.0       ┆ 325000.0    │\n",
       "│ 2020      ┆ 57 PLATT ST     ┆ 127400.0       ┆ 202500.0    │\n",
       "│ 2020      ┆ 245 NEW ROAD    ┆ 217640.0       ┆ 400000.0    │\n",
       "└───────────┴─────────────────┴────────────────┴─────────────┘"
      ]
     },
     "execution_count": 31,
     "metadata": {},
     "output_type": "execute_result"
    }
   ],
   "source": [
    "# Create sample DataFrame\n",
    "melt_sample = df.select(\n",
    "    [\n",
    "        'List Year',\n",
    "        'Address',\n",
    "        'Assessed Value',\n",
    "        'Sale Amount'\n",
    "    ]\n",
    ").limit(5).collect()\n",
    "\n",
    "melt_sample"
   ]
  },
  {
   "cell_type": "code",
   "execution_count": null,
   "id": "782a4c69",
   "metadata": {},
   "outputs": [
    {
     "name": "stderr",
     "output_type": "stream",
     "text": [
      "/var/folders/qx/rknrr0jn6cv107ktbpq81t8c0000gn/T/ipykernel_70164/911702613.py:2: DeprecationWarning: `DataFrame.melt` is deprecated. Use `unpivot` instead, with `index` instead of `id_vars` and `on` instead of `value_vars`\n",
      "  melt_sample.melt(\n"
     ]
    },
    {
     "data": {
      "text/html": [
       "<div><style>\n",
       ".dataframe > thead > tr,\n",
       ".dataframe > tbody > tr {\n",
       "  text-align: right;\n",
       "  white-space: pre-wrap;\n",
       "}\n",
       "</style>\n",
       "<small>shape: (10, 4)</small><table border=\"1\" class=\"dataframe\"><thead><tr><th>List Year</th><th>Address</th><th>Value Type</th><th>Amount</th></tr><tr><td>i64</td><td>str</td><td>str</td><td>f64</td></tr></thead><tbody><tr><td>2020</td><td>&quot;152 JACKSON ST&quot;</td><td>&quot;Assessed Value&quot;</td><td>110500.0</td></tr><tr><td>2020</td><td>&quot;152 JACKSON ST&quot;</td><td>&quot;Sale Amount&quot;</td><td>239900.0</td></tr><tr><td>2020</td><td>&quot;230 WAKELEE AVE&quot;</td><td>&quot;Assessed Value&quot;</td><td>150500.0</td></tr><tr><td>2020</td><td>&quot;230 WAKELEE AVE&quot;</td><td>&quot;Sale Amount&quot;</td><td>325000.0</td></tr><tr><td>2020</td><td>&quot;245 NEW ROAD&quot;</td><td>&quot;Assessed Value&quot;</td><td>217640.0</td></tr><tr><td>2020</td><td>&quot;245 NEW ROAD&quot;</td><td>&quot;Sale Amount&quot;</td><td>400000.0</td></tr><tr><td>2020</td><td>&quot;323 BEAVER ST&quot;</td><td>&quot;Assessed Value&quot;</td><td>133000.0</td></tr><tr><td>2020</td><td>&quot;323 BEAVER ST&quot;</td><td>&quot;Sale Amount&quot;</td><td>248400.0</td></tr><tr><td>2020</td><td>&quot;57 PLATT ST&quot;</td><td>&quot;Assessed Value&quot;</td><td>127400.0</td></tr><tr><td>2020</td><td>&quot;57 PLATT ST&quot;</td><td>&quot;Sale Amount&quot;</td><td>202500.0</td></tr></tbody></table></div>"
      ],
      "text/plain": [
       "shape: (10, 4)\n",
       "┌───────────┬─────────────────┬────────────────┬──────────┐\n",
       "│ List Year ┆ Address         ┆ Value Type     ┆ Amount   │\n",
       "│ ---       ┆ ---             ┆ ---            ┆ ---      │\n",
       "│ i64       ┆ str             ┆ str            ┆ f64      │\n",
       "╞═══════════╪═════════════════╪════════════════╪══════════╡\n",
       "│ 2020      ┆ 152 JACKSON ST  ┆ Assessed Value ┆ 110500.0 │\n",
       "│ 2020      ┆ 152 JACKSON ST  ┆ Sale Amount    ┆ 239900.0 │\n",
       "│ 2020      ┆ 230 WAKELEE AVE ┆ Assessed Value ┆ 150500.0 │\n",
       "│ 2020      ┆ 230 WAKELEE AVE ┆ Sale Amount    ┆ 325000.0 │\n",
       "│ 2020      ┆ 245 NEW ROAD    ┆ Assessed Value ┆ 217640.0 │\n",
       "│ 2020      ┆ 245 NEW ROAD    ┆ Sale Amount    ┆ 400000.0 │\n",
       "│ 2020      ┆ 323 BEAVER ST   ┆ Assessed Value ┆ 133000.0 │\n",
       "│ 2020      ┆ 323 BEAVER ST   ┆ Sale Amount    ┆ 248400.0 │\n",
       "│ 2020      ┆ 57 PLATT ST     ┆ Assessed Value ┆ 127400.0 │\n",
       "│ 2020      ┆ 57 PLATT ST     ┆ Sale Amount    ┆ 202500.0 │\n",
       "└───────────┴─────────────────┴────────────────┴──────────┘"
      ]
     },
     "execution_count": 32,
     "metadata": {},
     "output_type": "execute_result"
    }
   ],
   "source": [
    "# Convert into long format by melting 'Assessed Amount' and 'Sale Amount'\n",
    "melt_sample.melt(\n",
    "    id_vars = ['List Year', 'Address'],\n",
    "    variable_name = 'Value Type',\n",
    "    value_name = 'Amount'\n",
    ").sort('Address')"
   ]
  }
 ],
 "metadata": {
  "kernelspec": {
   "display_name": "base",
   "language": "python",
   "name": "python3"
  },
  "language_info": {
   "codemirror_mode": {
    "name": "ipython",
    "version": 3
   },
   "file_extension": ".py",
   "mimetype": "text/x-python",
   "name": "python",
   "nbconvert_exporter": "python",
   "pygments_lexer": "ipython3",
   "version": "3.11.7"
  }
 },
 "nbformat": 4,
 "nbformat_minor": 5
}
