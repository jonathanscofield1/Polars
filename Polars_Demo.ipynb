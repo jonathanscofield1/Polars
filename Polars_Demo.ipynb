{
 "cells": [
  {
   "cell_type": "markdown",
   "id": "b253e318",
   "metadata": {},
   "source": [
    "# Polars Tutorial and Demonstration\n",
    "> ### Jonathan Scofield\n",
    "#### This notebook will help you set up polars on you computer and query a CSV file. For more information about Polars, please visit the official [website](https://pola.rs/). <br>\n",
    "#### We will be using public real estate sales data from the State of Connecticut for property valued $2K or more from the year 2001 to 2022.\n",
    "#### The data used for this project is in the public domain and is can be found [here](https://catalog.data.gov/dataset/real-estate-sales-2001-2018)."
   ]
  },
  {
   "cell_type": "markdown",
   "id": "cb820a7b",
   "metadata": {},
   "source": [
    "## Setup <br>\n",
    "#### You need to have a version of Python installed equal to or greater than 3.10.\n",
    "#### Use this command to install Polars:\n",
    ">pip install 'polars[all]' "
   ]
  },
  {
   "cell_type": "code",
   "execution_count": null,
   "id": "95f8ca52",
   "metadata": {},
   "outputs": [],
   "source": [
    "!pip show polars"
   ]
  },
  {
   "cell_type": "markdown",
   "id": "37f5fea7",
   "metadata": {},
   "source": [
    "# Using the SQL Interface"
   ]
  },
  {
   "cell_type": "markdown",
   "id": "3349a631",
   "metadata": {},
   "source": [
    "#### Import required modules."
   ]
  },
  {
   "cell_type": "code",
   "execution_count": null,
   "id": "85582ce7",
   "metadata": {},
   "outputs": [],
   "source": [
    "# \"pl\" is the conventional alias for the Polars library\n",
    "import polars as pl\n",
    "import os"
   ]
  },
  {
   "cell_type": "markdown",
   "id": "1e37fdff",
   "metadata": {},
   "source": [
    "#### Let's take a look at the size of the CSV file we want to examine."
   ]
  },
  {
   "cell_type": "code",
   "execution_count": null,
   "id": "76f92e7a",
   "metadata": {
    "scrolled": true
   },
   "outputs": [],
   "source": [
    "# Get the size of the source .csv file\n",
    "\n",
    "f\"{round(os.path.getsize(r'Real_Estate_Sales_2001-2022_GL.csv') / (1024 ** 2), 2)} MB\""
   ]
  },
  {
   "cell_type": "markdown",
   "id": "0a1792b9",
   "metadata": {},
   "source": [
    "#### It is fairly large, so we will scan it to a LazyFrame."
   ]
  },
  {
   "cell_type": "code",
   "execution_count": null,
   "id": "a3bdbff2",
   "metadata": {},
   "outputs": [],
   "source": [
    "# Create a LazyFrame that infers schema based on first 1000 rows\n",
    "\n",
    "df = pl.scan_csv(  # We are scanning, not reading\n",
    "    \"Real_Estate_Sales_2001-2022_GL.csv\",\n",
    "    ignore_errors=False,  # No crash on error\n",
    "    infer_schema_length=1000,  # Sample size for schema detection\n",
    "    low_memory=True,  # Memory > speed\n",
    "    try_parse_dates=True,  # Format dates automatically\n",
    ")"
   ]
  },
  {
   "cell_type": "markdown",
   "id": "b45e887b",
   "metadata": {},
   "source": [
    "#### After scanning, we can see the proposed schema from the given sample size:"
   ]
  },
  {
   "cell_type": "code",
   "execution_count": null,
   "id": "8854d36f",
   "metadata": {
    "scrolled": true
   },
   "outputs": [],
   "source": [
    "df.schema # View the inferred schema"
   ]
  },
  {
   "cell_type": "markdown",
   "id": "fff3708e",
   "metadata": {},
   "source": [
    "#### Because this is a LazyFrame, Polars can't return the count of rows."
   ]
  },
  {
   "cell_type": "code",
   "execution_count": null,
   "id": "40614329",
   "metadata": {
    "scrolled": false
   },
   "outputs": [],
   "source": [
    "df.select(pl.count())  # This won't return anything on a LazyFrame"
   ]
  },
  {
   "cell_type": "markdown",
   "id": "fa57d323",
   "metadata": {},
   "source": [
    "## Querying the Data"
   ]
  },
  {
   "cell_type": "markdown",
   "id": "325b198a",
   "metadata": {},
   "source": [
    "#### We can query the data as if it was a SQL database using the following syntax:"
   ]
  },
  {
   "cell_type": "code",
   "execution_count": null,
   "id": "c9e277ad",
   "metadata": {},
   "outputs": [],
   "source": [
    "# Count records for each year\n",
    "\n",
    "select_df = pl.SQLContext(register_globals=True).execute(\n",
    "    \"\"\" \n",
    "   SELECT\n",
    "        \"List Year\",\n",
    "        count(\"List Year\") as \"Record Count\"\n",
    "    FROM \n",
    "        df\n",
    "    GROUP BY \"List Year\"\n",
    "    ORDER BY \"List Year\"\n",
    "    \"\"\"\n",
    ")"
   ]
  },
  {
   "cell_type": "markdown",
   "id": "a0b24530",
   "metadata": {},
   "source": [
    "#### To view the data, we must call the **collect()** method."
   ]
  },
  {
   "cell_type": "code",
   "execution_count": null,
   "id": "a90fb669",
   "metadata": {
    "scrolled": true
   },
   "outputs": [],
   "source": [
    "select_df.collect(streaming=True)  # Perform query and load into memory"
   ]
  },
  {
   "cell_type": "markdown",
   "id": "cd867b85",
   "metadata": {},
   "source": [
    "#### We can perform most basic SQL queries on the data. Let's try some string manipulation:"
   ]
  },
  {
   "cell_type": "code",
   "execution_count": null,
   "id": "c52d02a5",
   "metadata": {
    "scrolled": false
   },
   "outputs": [],
   "source": [
    "# String manipulation with filtering\n",
    "\n",
    "pl.SQLContext(register_globals=True).execute(\n",
    "    \"\"\" \n",
    "   SELECT\n",
    "       \"Town\",\n",
    "       \"Residential Type\",\n",
    "       upper(trim(\"Town\")) + '-' + upper(trim(\"Residential Type\")) as \"New Column\",\n",
    "       \"Assessed Value\"\n",
    "    FROM \n",
    "        df\n",
    "    WHERE \n",
    "        \"List Year\" = 2021 AND \n",
    "        \"Assessed Value\" > 1000000 \n",
    "        AND \"Residential Type\" IS NOT NULL\n",
    "    ORDER BY \n",
    "        \"Assessed Value\" DESC\n",
    "   LIMIT 5\n",
    "    \"\"\"\n",
    ").collect(streaming=True)"
   ]
  },
  {
   "cell_type": "code",
   "execution_count": null,
   "id": "e543ccc7",
   "metadata": {},
   "outputs": [],
   "source": [
    "# String manipulation with calculated column\n",
    "\n",
    "highest_premium_df = (\n",
    "    pl.SQLContext(register_globals=True)\n",
    "    .execute(\n",
    "        \"\"\" \n",
    "   SELECT\n",
    "        TRIM(UPPER(\"Town\")),\n",
    "        \"Address\",\n",
    "       (\"Sale Amount\" - \"Assessed Value\") AS \"Premium\"\n",
    "    FROM \n",
    "        df\n",
    "    WHERE \n",
    "        \"List Year\" = 2021 AND \n",
    "        \"Town\" IS NOT NULL\n",
    "    ORDER BY\n",
    "       \"Premium\" DESC\n",
    "    LIMIT 1\n",
    "    \"\"\"\n",
    "    )\n",
    "    .collect(streaming=True)\n",
    ")\n",
    "\n",
    "highest_premium_df"
   ]
  },
  {
   "cell_type": "markdown",
   "id": "d8885514",
   "metadata": {},
   "source": [
    "# Using the Polars Expression Syntax"
   ]
  },
  {
   "cell_type": "markdown",
   "id": "0048bd0f",
   "metadata": {},
   "source": [
    "#### The Polars Expression Syntax will be immediately familiar to anyone who has worked with PySpark. It offers additional granularity and a \"Pythonic\" syntax for manipulating data."
   ]
  },
  {
   "cell_type": "markdown",
   "id": "bab14aab",
   "metadata": {},
   "source": [
    "## Getting Data Profile"
   ]
  },
  {
   "cell_type": "code",
   "execution_count": null,
   "id": "03a11bb0",
   "metadata": {},
   "outputs": [],
   "source": [
    "# Descriptive statistics for entire DataFrame\n",
    "\n",
    "df.describe()"
   ]
  },
  {
   "cell_type": "markdown",
   "id": "20156407",
   "metadata": {},
   "source": [
    "## Basic Selecting and Filtering"
   ]
  },
  {
   "cell_type": "markdown",
   "id": "7fc2849e",
   "metadata": {},
   "source": [
    "#### Basic Selecting"
   ]
  },
  {
   "cell_type": "code",
   "execution_count": null,
   "id": "ccd41265",
   "metadata": {},
   "outputs": [],
   "source": [
    "# Select number of rows in 'Serial Number' column\n",
    "\n",
    "df.select(pl.col(\"Serial Number\").count()).collect()"
   ]
  },
  {
   "cell_type": "markdown",
   "id": "aba2ffd3",
   "metadata": {},
   "source": [
    "#### Selecting with Sort and Limit"
   ]
  },
  {
   "cell_type": "code",
   "execution_count": null,
   "id": "8ea73462",
   "metadata": {},
   "outputs": [],
   "source": [
    "# Select and order by 'Serial Number'\n",
    "\n",
    "df.select([\"Serial Number\", \"Assessor Remarks\"]).limit(5).sort(\n",
    "    by=\"Serial Number\"\n",
    ").collect()"
   ]
  },
  {
   "cell_type": "markdown",
   "id": "830189b1",
   "metadata": {},
   "source": [
    "#### Select with Filter"
   ]
  },
  {
   "cell_type": "code",
   "execution_count": null,
   "id": "d62d18c9",
   "metadata": {},
   "outputs": [],
   "source": [
    "# Filter out null 'Assessor Remarks'\n",
    "\n",
    "df.select([\"Serial Number\", \"Assessor Remarks\"]).filter(\n",
    "    pl.col(\"Assessor Remarks\").is_not_null()\n",
    ").limit(5).sort(by=\"Serial Number\").collect()"
   ]
  },
  {
   "cell_type": "markdown",
   "id": "83091bd1",
   "metadata": {},
   "source": [
    "#### Select with Transformation and Filter"
   ]
  },
  {
   "cell_type": "code",
   "execution_count": null,
   "id": "87a65b16",
   "metadata": {},
   "outputs": [],
   "source": [
    "# Recreate the sales ratio with a column-level calculation\n",
    "\n",
    "df.select(\n",
    "    pl.col(\"List Year\").alias(\"Year\"),\n",
    "    (pl.col(\"Assessed Value\") / pl.col(\"Sale Amount\")).alias(\"Sales Ratio\"),\n",
    ").filter((pl.col(\"Year\") >= 2020) & (pl.col(\"Sales Ratio\") >= 0.8)).sort(\n",
    "    by=[\"Year\", \"Sales Ratio\"], descending=[False, True]\n",
    ").collect()"
   ]
  },
  {
   "cell_type": "markdown",
   "id": "0d434030",
   "metadata": {},
   "source": [
    "## Adding/Transforming Columns"
   ]
  },
  {
   "cell_type": "markdown",
   "id": "8390d065",
   "metadata": {},
   "source": [
    "#### Transforming Existing Columns"
   ]
  },
  {
   "cell_type": "code",
   "execution_count": null,
   "id": "27a11327",
   "metadata": {},
   "outputs": [],
   "source": [
    "# Coalesce remarks and default to \"N/A\"\n",
    "\n",
    "df.with_columns(\n",
    "    pl.coalesce(pl.col([\"Assessor Remarks\", \"OPM remarks\"]), pl.lit(\"N/A\")),\n",
    "    pl.coalesce(pl.col([\"OPM remarks\", \"Assessor Remarks\"]), pl.lit(\"N/A\")),\n",
    ").limit(5).collect()"
   ]
  },
  {
   "cell_type": "markdown",
   "id": "6a514c5b",
   "metadata": {},
   "source": [
    "#### Creating a New Column"
   ]
  },
  {
   "cell_type": "code",
   "execution_count": null,
   "id": "66771f76",
   "metadata": {},
   "outputs": [],
   "source": [
    "# Create a new column of the struct type\n",
    "\n",
    "df.filter(\n",
    "    (pl.col(\"Assessor Remarks\").is_not_null()) & (pl.col(\"OPM remarks\").is_not_null())\n",
    ").with_columns(\n",
    "    pl.struct(pl.col([\"Assessor Remarks\", \"OPM remarks\"])).alias(\"Combined Remarks\")\n",
    ").limit(\n",
    "    5\n",
    ").collect()"
   ]
  },
  {
   "cell_type": "markdown",
   "id": "5527787f",
   "metadata": {},
   "source": [
    "#### Casting"
   ]
  },
  {
   "cell_type": "code",
   "execution_count": null,
   "id": "4a8800d2",
   "metadata": {},
   "outputs": [],
   "source": [
    "# Cast a string column to Polars date type\n",
    "\n",
    "df.select(\n",
    "    pl.col(\"Date Recorded\").str.strptime(pl.Date, r\"%m/%d/%Y\"),\n",
    "    pl.col(\"Assessed Value\").cast(pl.Int64),\n",
    ").collect()"
   ]
  },
  {
   "cell_type": "markdown",
   "id": "db82beb7",
   "metadata": {},
   "source": [
    "## Joins"
   ]
  },
  {
   "cell_type": "markdown",
   "id": "edb32e16",
   "metadata": {},
   "source": [
    "#### SQL-like Joins"
   ]
  },
  {
   "cell_type": "code",
   "execution_count": null,
   "id": "29ad65aa",
   "metadata": {},
   "outputs": [],
   "source": [
    "# Sample data\n",
    "df1 = df.filter(pl.col(\"List Year\") == 2020)\n",
    "df2 = df.filter(pl.col(\"List Year\") == 2019)\n",
    "\n",
    "# Inner join\n",
    "df1.join(df2, on=\"Address\", how=\"inner\").collect()"
   ]
  },
  {
   "cell_type": "markdown",
   "id": "d214b8ed",
   "metadata": {},
   "source": [
    "#### Union All"
   ]
  },
  {
   "cell_type": "code",
   "execution_count": null,
   "id": "b5e9be9e",
   "metadata": {},
   "outputs": [],
   "source": [
    "# Concatenation of previous DataFrames\n",
    "\n",
    "pl.concat([df1, df2], how=\"diagonal_relaxed\").collect()"
   ]
  },
  {
   "cell_type": "markdown",
   "id": "ebc7a99d",
   "metadata": {},
   "source": [
    "#### Union"
   ]
  },
  {
   "cell_type": "code",
   "execution_count": null,
   "id": "02a61c1a",
   "metadata": {},
   "outputs": [],
   "source": [
    "# Concatenation while enforcing uniqueness on the 'Address' column\n",
    "\n",
    "pl.concat([df1, df2], how=\"diagonal_relaxed\").unique(\"Address\").collect()"
   ]
  },
  {
   "cell_type": "markdown",
   "id": "9140e58e",
   "metadata": {},
   "source": [
    "## Aggregations"
   ]
  },
  {
   "cell_type": "markdown",
   "id": "3a5040db",
   "metadata": {},
   "source": [
    "#### Simple Grouping"
   ]
  },
  {
   "cell_type": "code",
   "execution_count": null,
   "id": "4db9bb60",
   "metadata": {},
   "outputs": [],
   "source": [
    "# Multi-index grouping with basic aggregations\n",
    "\n",
    "df.group_by([\"List Year\", \"Town\"]).agg(\n",
    "    [\n",
    "        pl.col(\"Assessed Value\").mean().alias(\"Avg Assessed Value\"),\n",
    "        pl.col(\"Sale Amount\").mean().alias(\"Avg Sale Amount\"),\n",
    "        pl.col(\"Assessed Value\").median().alias(\"Median Assessed Value\"),\n",
    "        pl.col(\"Sale Amount\").median().alias(\"Median Sale Amount\"),\n",
    "    ]\n",
    ").sort(by=[\"List Year\", \"Avg Assessed Value\", \"Avg Sale Amount\"]).collect()"
   ]
  },
  {
   "cell_type": "markdown",
   "id": "77ddaa71",
   "metadata": {},
   "source": [
    "#### Grouping Without Aggregating"
   ]
  },
  {
   "cell_type": "code",
   "execution_count": null,
   "id": "f5b9dd69",
   "metadata": {},
   "outputs": [],
   "source": [
    "# Creates a list if no aggregation is specified\n",
    "\n",
    "list_df = (\n",
    "    df.group_by([\"List Year\", \"Town\"])\n",
    "    .agg(\n",
    "        [\n",
    "            pl.col(\"Assessed Value\").alias(\"Assessed Values\"),\n",
    "            pl.col(\"Sale Amount\").alias(\"Sale Amounts\"),\n",
    "        ]\n",
    "    )\n",
    "    .collect()\n",
    ")\n",
    "\n",
    "list_df"
   ]
  },
  {
   "cell_type": "markdown",
   "id": "3ffc1e12",
   "metadata": {},
   "source": [
    "#### Using Non-Aggregating Groups to Limit Results by Group"
   ]
  },
  {
   "cell_type": "code",
   "execution_count": null,
   "id": "2bd0d3b0",
   "metadata": {},
   "outputs": [],
   "source": [
    "# List types can be sorted, sliced, and exploded to achieve a \"top nth\" result\n",
    "\n",
    "list_df.with_columns(\n",
    "    pl.col(\"Assessed Values\").list.sort(descending=True).list.slice(0, 4),\n",
    "    pl.col(\"Sale Amounts\").list.sort(descending=True).list.slice(0, 4),\n",
    ").explode(pl.col(\"Assessed Values\"), pl.col(\"Sale Amounts\"))"
   ]
  },
  {
   "cell_type": "markdown",
   "id": "369a7cb8",
   "metadata": {},
   "source": [
    "## Window Operations"
   ]
  },
  {
   "cell_type": "code",
   "execution_count": null,
   "id": "90d56515",
   "metadata": {},
   "outputs": [],
   "source": [
    "# Create a DataFrame for the window\n",
    "\n",
    "window_data = (\n",
    "    df.select([\"List Year\", \"Address\", \"Assessed Value\"])\n",
    "    .filter(pl.col(\"Address\") == \"1 CEDAR ST\")\n",
    "    .unique()\n",
    "    .collect()\n",
    "    .sort(\"List Year\")\n",
    ")\n",
    "\n",
    "window_data"
   ]
  },
  {
   "cell_type": "markdown",
   "id": "1a4f1e54",
   "metadata": {},
   "source": [
    "#### Using Over()"
   ]
  },
  {
   "cell_type": "code",
   "execution_count": null,
   "id": "3d461dc8",
   "metadata": {},
   "outputs": [],
   "source": [
    "# Multi-window operation - rank is over all the rows while the second ranks by year\n",
    "\n",
    "window_data.with_columns(\n",
    "    pl.col(\"Assessed Value\").rank(\"dense\", descending=True).alias(\"Total Rank\"),\n",
    "    pl.col(\"Assessed Value\")\n",
    "    .rank(\"dense\", descending=True)\n",
    "    .over(\"List Year\")\n",
    "    .alias(\"Yearly Rank\"),\n",
    ")"
   ]
  },
  {
   "cell_type": "markdown",
   "id": "6b1b526a",
   "metadata": {},
   "source": [
    "#### Using Rolling()"
   ]
  },
  {
   "cell_type": "code",
   "execution_count": null,
   "id": "6d1c91d5",
   "metadata": {},
   "outputs": [],
   "source": [
    "# Create example df\n",
    "\n",
    "rolling_data = (\n",
    "    df.select(\n",
    "        [\n",
    "            pl.col(\"Date Recorded\").str.strptime(pl.Date, r\"%m/%d/%Y\"),\n",
    "            pl.col(\"Address\"),\n",
    "            pl.col(\"Assessed Value\").cast(pl.Int64),\n",
    "        ]\n",
    "    )\n",
    "    .filter(pl.col(\"Date Recorded\") > pl.date(2020, 1, 1))\n",
    "    .collect()\n",
    "    .unique(\"Date Recorded\")\n",
    "    .sort(\"Date Recorded\")\n",
    "    .limit(10)\n",
    ")\n",
    "\n",
    "rolling_data"
   ]
  },
  {
   "cell_type": "code",
   "execution_count": null,
   "id": "6f6ab53c",
   "metadata": {},
   "outputs": [],
   "source": [
    "# 3-day rolling mean, max and min\n",
    "\n",
    "rolling_data.with_columns(\n",
    "    avg_Val=pl.mean(\"Assessed Value\").rolling(\n",
    "        index_column=\"Date Recorded\", period=\"3d\"\n",
    "    ),\n",
    "    min_Val=pl.min(\"Assessed Value\").rolling(index_column=\"Date Recorded\", period=\"3d\"),\n",
    "    max_Val=pl.max(\"Assessed Value\").rolling(index_column=\"Date Recorded\", period=\"3d\"),\n",
    ")"
   ]
  },
  {
   "cell_type": "markdown",
   "id": "7737032d",
   "metadata": {},
   "source": [
    "## Pivots and Melts"
   ]
  },
  {
   "cell_type": "markdown",
   "id": "81367133",
   "metadata": {},
   "source": [
    "#### Pivot "
   ]
  },
  {
   "cell_type": "code",
   "execution_count": null,
   "id": "b4e4a092",
   "metadata": {},
   "outputs": [],
   "source": [
    "# Create sample data by grouping median 'Sale Amount' by 'List Year', 'Property Type'\n",
    "\n",
    "pivot_sample = (\n",
    "    df.filter(pl.col(\"Property Type\").is_not_null())\n",
    "    .group_by([\"List Year\", \"Property Type\"])\n",
    "    .agg(pl.col(\"Sale Amount\").median().alias(\"Median Sale Amount\"))\n",
    "    .collect()\n",
    ")\n",
    "\n",
    "pivot_sample"
   ]
  },
  {
   "cell_type": "code",
   "execution_count": null,
   "id": "aebd52ea",
   "metadata": {},
   "outputs": [],
   "source": [
    "# Pivot 'Property' Type into columns\n",
    "\n",
    "pivot_sample.pivot(\n",
    "    columns=\"Property Type\",\n",
    "    index=\"List Year\",\n",
    "    values=\"Median Sale Amount\",\n",
    "    aggregate_function=\"mean\",\n",
    "    sort_columns=True,\n",
    ").sort(\"List Year\")"
   ]
  },
  {
   "cell_type": "markdown",
   "id": "60e6b4f2",
   "metadata": {},
   "source": [
    "#### Melt"
   ]
  },
  {
   "cell_type": "code",
   "execution_count": null,
   "id": "316f5034",
   "metadata": {},
   "outputs": [],
   "source": [
    "# Create sample DataFrame\n",
    "melt_sample = (\n",
    "    df.select([\"List Year\", \"Address\", \"Assessed Value\", \"Sale Amount\"])\n",
    "    .limit(5)\n",
    "    .collect()\n",
    ")\n",
    "\n",
    "melt_sample"
   ]
  },
  {
   "cell_type": "code",
   "execution_count": null,
   "id": "782a4c69",
   "metadata": {},
   "outputs": [],
   "source": [
    "# Convert into long format by melting 'Assessed Amount' and 'Sale Amount'\n",
    "melt_sample.melt(\n",
    "    id_vars=[\"List Year\", \"Address\"], variable_name=\"Value Type\", value_name=\"Amount\"\n",
    ").sort(\"Address\")"
   ]
  }
 ],
 "metadata": {
  "kernelspec": {
   "display_name": "base",
   "language": "python",
   "name": "python3"
  },
  "language_info": {
   "codemirror_mode": {
    "name": "ipython",
    "version": 3
   },
   "file_extension": ".py",
   "mimetype": "text/x-python",
   "name": "python",
   "nbconvert_exporter": "python",
   "pygments_lexer": "ipython3",
   "version": "3.11.7"
  }
 },
 "nbformat": 4,
 "nbformat_minor": 5
}
